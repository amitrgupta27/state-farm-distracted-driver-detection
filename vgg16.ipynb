{
 "cells": [
  {
   "cell_type": "markdown",
   "metadata": {
    "colab_type": "text",
    "id": "SKQ4bH7qMGrA"
   },
   "source": [
    "# Taking advantage of Colab Pro\n",
    "\n"
   ]
  },
  {
   "cell_type": "markdown",
   "metadata": {
    "colab_type": "text",
    "id": "QMMqmdiYMkvi"
   },
   "source": [
    "## Faster GPUs\n",
    "\n",
    "With Colab Pro you have priority access to our fastest GPUs. For example, you may get a T4 or P100 GPU at times when most users of standard Colab receive a slower K80 GPU. You can see what GPU you've been assigned at any time by executing the following cell."
   ]
  },
  {
   "cell_type": "code",
   "execution_count": 2,
   "metadata": {
    "colab": {
     "base_uri": "https://localhost:8080/",
     "height": 306
    },
    "colab_type": "code",
    "executionInfo": {
     "elapsed": 6084,
     "status": "ok",
     "timestamp": 1591459684865,
     "user": {
      "displayName": "Amit Gupta",
      "photoUrl": "",
      "userId": "05965806125720489979"
     },
     "user_tz": 420
    },
    "id": "23TOba33L4qf",
    "outputId": "6472672c-e50f-4ef0-9a3e-c758be64c7d9"
   },
   "outputs": [
    {
     "name": "stdout",
     "output_type": "stream",
     "text": [
      "Sat Jun  6 16:08:03 2020       \n",
      "+-----------------------------------------------------------------------------+\n",
      "| NVIDIA-SMI 440.82       Driver Version: 418.67       CUDA Version: 10.1     |\n",
      "|-------------------------------+----------------------+----------------------+\n",
      "| GPU  Name        Persistence-M| Bus-Id        Disp.A | Volatile Uncorr. ECC |\n",
      "| Fan  Temp  Perf  Pwr:Usage/Cap|         Memory-Usage | GPU-Util  Compute M. |\n",
      "|===============================+======================+======================|\n",
      "|   0  Tesla P100-PCIE...  Off  | 00000000:00:04.0 Off |                    0 |\n",
      "| N/A   41C    P0    26W / 250W |      0MiB / 16280MiB |      0%      Default |\n",
      "+-------------------------------+----------------------+----------------------+\n",
      "                                                                               \n",
      "+-----------------------------------------------------------------------------+\n",
      "| Processes:                                                       GPU Memory |\n",
      "|  GPU       PID   Type   Process name                             Usage      |\n",
      "|=============================================================================|\n",
      "|  No running processes found                                                 |\n",
      "+-----------------------------------------------------------------------------+\n"
     ]
    }
   ],
   "source": [
    "gpu_info = !nvidia-smi\n",
    "gpu_info = '\\n'.join(gpu_info)\n",
    "if gpu_info.find('failed') >= 0:\n",
    "  print('Select the Runtime > \"Change runtime type\" menu to enable a GPU accelerator, ')\n",
    "  print('and then re-execute this cell.')\n",
    "else:\n",
    "  print(gpu_info)"
   ]
  },
  {
   "cell_type": "markdown",
   "metadata": {
    "colab_type": "text",
    "id": "Sa-IrJS1aRVJ"
   },
   "source": [
    "In order to use a GPU with your notebook, select the Runtime > Change runtime type menu, and then set the hardware accelerator dropdown to GPU."
   ]
  },
  {
   "cell_type": "markdown",
   "metadata": {
    "colab_type": "text",
    "id": "65MSuHKqNeBZ"
   },
   "source": [
    "## More memory\n",
    "\n",
    "With Colab Pro you have the option to access high-memory VMs when they are available. To set your notebook preference to use a high-memory runtime, select the Runtime > 'Change runtime type' menu, and then select High-RAM in the Runtime shape dropdown.\n",
    "\n",
    "You can see how much memory you have available at any time by running the following code.\n"
   ]
  },
  {
   "cell_type": "code",
   "execution_count": 3,
   "metadata": {
    "colab": {
     "base_uri": "https://localhost:8080/",
     "height": 68
    },
    "colab_type": "code",
    "executionInfo": {
     "elapsed": 6265,
     "status": "ok",
     "timestamp": 1591459685055,
     "user": {
      "displayName": "Amit Gupta",
      "photoUrl": "",
      "userId": "05965806125720489979"
     },
     "user_tz": 420
    },
    "id": "V1G82GuO-tez",
    "outputId": "93d72fbe-4a7d-4b63-a311-58bfb75fac25"
   },
   "outputs": [
    {
     "name": "stdout",
     "output_type": "stream",
     "text": [
      "Your runtime has 27.4 gigabytes of available RAM\n",
      "\n",
      "You are using a high-RAM runtime!\n"
     ]
    }
   ],
   "source": [
    "from psutil import virtual_memory\n",
    "ram_gb = virtual_memory().total / 1e9\n",
    "print('Your runtime has {:.1f} gigabytes of available RAM\\n'.format(ram_gb))\n",
    "\n",
    "if ram_gb < 20:\n",
    "  print('To enable a high-RAM runtime, select the Runtime > \"Change runtime type\"')\n",
    "  print('menu, and then select High-RAM in the Runtime shape dropdown. Then, ')\n",
    "  print('re-execute this cell.')\n",
    "else:\n",
    "  print('You are using a high-RAM runtime!')"
   ]
  },
  {
   "cell_type": "code",
   "execution_count": 4,
   "metadata": {
    "colab": {
     "base_uri": "https://localhost:8080/",
     "height": 34
    },
    "colab_type": "code",
    "executionInfo": {
     "elapsed": 6257,
     "status": "ok",
     "timestamp": 1591459685056,
     "user": {
      "displayName": "Amit Gupta",
      "photoUrl": "",
      "userId": "05965806125720489979"
     },
     "user_tz": 420
    },
    "id": "UKGhC3GK3mKM",
    "outputId": "5cfbac7f-ecdd-4be4-b86e-316759d95c27"
   },
   "outputs": [
    {
     "name": "stdout",
     "output_type": "stream",
     "text": [
      "Drive already mounted at /content/drive; to attempt to forcibly remount, call drive.mount(\"/content/drive\", force_remount=True).\n"
     ]
    }
   ],
   "source": [
    "from google.colab import drive\n",
    "drive.mount('/content/drive')"
   ]
  },
  {
   "cell_type": "code",
   "execution_count": 0,
   "metadata": {
    "colab": {},
    "colab_type": "code",
    "id": "5wc4NJ7y72cY"
   },
   "outputs": [],
   "source": []
  },
  {
   "cell_type": "markdown",
   "metadata": {
    "colab_type": "text",
    "id": "BJW8Qi-pPpep"
   },
   "source": [
    "## Longer runtimes\n",
    "\n",
    "All Colab runtimes are reset after some period of time (which is faster if the runtime isn't executing code). While Colab Pro subscribers still have limits, these will be roughly twice the limits for non-subscribers."
   ]
  },
  {
   "cell_type": "markdown",
   "metadata": {
    "colab_type": "text",
    "id": "uLlTRcMM_h0k"
   },
   "source": [
    "## Resource limits in Colab Pro\n",
    "\n",
    "Your resources are not unlimited in Colab Pro. To make the most of Colab Pro, please avoid using resources when you don't need them. For example, only use a GPU or high-RAM runtime when required, and close Colab tabs when finished.\n"
   ]
  },
  {
   "cell_type": "markdown",
   "metadata": {
    "colab_type": "text",
    "id": "mm8FzEidvPs6"
   },
   "source": [
    "## Send us feedback!\n",
    "\n",
    "If you have any feedback for us, please let us know. The best way to send feedback is by using the Help > 'Send feedback...' menu. If you encounter usage limits in Colab Pro and would be interested in a product with higher usage limits, do let us know.\n",
    "\n",
    "If you encounter errors or other issues with billing (payments) for Colab Pro, please email colab-billing@google.com."
   ]
  },
  {
   "cell_type": "code",
   "execution_count": 5,
   "metadata": {
    "colab": {
     "base_uri": "https://localhost:8080/",
     "height": 88
    },
    "colab_type": "code",
    "executionInfo": {
     "elapsed": 8862,
     "status": "ok",
     "timestamp": 1591459687671,
     "user": {
      "displayName": "Amit Gupta",
      "photoUrl": "",
      "userId": "05965806125720489979"
     },
     "user_tz": 420
    },
    "id": "PGql69jz76OO",
    "outputId": "ec884384-fc54-46b1-f922-1e7a357b8634"
   },
   "outputs": [
    {
     "name": "stderr",
     "output_type": "stream",
     "text": [
      "/usr/local/lib/python3.6/dist-packages/statsmodels/tools/_testing.py:19: FutureWarning: pandas.util.testing is deprecated. Use the functions in the public API at pandas.testing instead.\n",
      "  import pandas.util.testing as tm\n",
      "Using TensorFlow backend.\n"
     ]
    }
   ],
   "source": [
    "import os\n",
    "import random\n",
    "import numpy as np\n",
    "import pandas as pd \n",
    "import pickle\n",
    "from skimage import io\n",
    "from skimage import color\n",
    "from PIL import Image\n",
    "from IPython.display import display\n",
    "import matplotlib.pyplot as plt\n",
    "import seaborn as sns\n",
    "from dask.array.image import imread\n",
    "from dask import bag, threaded\n",
    "from dask.diagnostics import ProgressBar\n",
    "import cv2\n",
    "from sklearn.model_selection import train_test_split\n",
    "import warnings\n",
    "warnings.filterwarnings(\"ignore\")\n",
    "\n",
    "\n",
    "\n",
    "import keras\n",
    "from keras.models import Sequential\n",
    "from keras.layers import Dense, Dropout, Flatten\n",
    "from keras.layers import Conv2D, MaxPooling2D\n",
    "from keras.utils import to_categorical\n",
    "from keras.preprocessing import image \n",
    "from keras.layers.normalization import BatchNormalization\n",
    "from keras import optimizers\n"
   ]
  },
  {
   "cell_type": "code",
   "execution_count": 10,
   "metadata": {
    "colab": {
     "base_uri": "https://localhost:8080/",
     "height": 34
    },
    "colab_type": "code",
    "executionInfo": {
     "elapsed": 407,
     "status": "ok",
     "timestamp": 1591461254476,
     "user": {
      "displayName": "Amit Gupta",
      "photoUrl": "",
      "userId": "05965806125720489979"
     },
     "user_tz": 420
    },
    "id": "BYNTBQes8cRq",
    "outputId": "f9a71738-89de-4260-c07c-6319dc99fbf2"
   },
   "outputs": [
    {
     "name": "stdout",
     "output_type": "stream",
     "text": [
      "Drive already mounted at /content/drive; to attempt to forcibly remount, call drive.mount(\"/content/drive\", force_remount=True).\n"
     ]
    }
   ],
   "source": [
    "from google.colab import drive\n",
    "drive.mount('/content/drive')"
   ]
  },
  {
   "cell_type": "code",
   "execution_count": 13,
   "metadata": {
    "colab": {
     "base_uri": "https://localhost:8080/",
     "height": 187
    },
    "colab_type": "code",
    "executionInfo": {
     "elapsed": 52857,
     "status": "ok",
     "timestamp": 1591463965160,
     "user": {
      "displayName": "Amit Gupta",
      "photoUrl": "",
      "userId": "05965806125720489979"
     },
     "user_tz": 420
    },
    "id": "43BM1ruo34o-",
    "outputId": "5364e2f0-895c-41b9-e46b-bb2c3d54ad82"
   },
   "outputs": [
    {
     "name": "stdout",
     "output_type": "stream",
     "text": [
      "loading pickle files from class = 0\n",
      "loading pickle files from class = 1\n",
      "loading pickle files from class = 2\n",
      "loading pickle files from class = 3\n",
      "loading pickle files from class = 4\n",
      "loading pickle files from class = 5\n",
      "loading pickle files from class = 6\n",
      "loading pickle files from class = 7\n",
      "loading pickle files from class = 8\n",
      "loading pickle files from class = 9\n"
     ]
    }
   ],
   "source": [
    "train_image = []\n",
    "image_label = []\n",
    "\n",
    "for i in range(10):\n",
    "  path = \"/content/drive/My Drive/distdrv/cache/zoommask_r_224_c_224_c_3_class\" + str(i) + \".dat\"\n",
    "\n",
    "  print(f'loading pickle files from class = {i}')\n",
    "  # get orig image\n",
    "  file = open(path, 'rb')\n",
    "  images, labels = pickle.load(file)\n",
    "  train_image = train_image + images\n",
    "  #image_label = image_label + labels\n",
    "\n",
    "\n",
    "\n"
   ]
  },
  {
   "cell_type": "code",
   "execution_count": 0,
   "metadata": {
    "colab": {},
    "colab_type": "code",
    "id": "bgYRGVy-aKMQ"
   },
   "outputs": [],
   "source": []
  },
  {
   "cell_type": "code",
   "execution_count": 0,
   "metadata": {
    "colab": {},
    "colab_type": "code",
    "id": "TcPurrMWdmu5"
   },
   "outputs": [],
   "source": [
    "images = []\n",
    "labels = []\n",
    "driver_details = []"
   ]
  },
  {
   "cell_type": "code",
   "execution_count": 15,
   "metadata": {
    "colab": {
     "base_uri": "https://localhost:8080/",
     "height": 34
    },
    "colab_type": "code",
    "executionInfo": {
     "elapsed": 525,
     "status": "ok",
     "timestamp": 1591463965694,
     "user": {
      "displayName": "Amit Gupta",
      "photoUrl": "",
      "userId": "05965806125720489979"
     },
     "user_tz": 420
    },
    "id": "rD1Np8DsHDMs",
    "outputId": "a9d9088b-3522-44ac-806a-1878530c2708"
   },
   "outputs": [
    {
     "name": "stdout",
     "output_type": "stream",
     "text": [
      "train image size = 22424\n"
     ]
    }
   ],
   "source": [
    "print(f'train image size = {len(train_image)}')"
   ]
  },
  {
   "cell_type": "code",
   "execution_count": 0,
   "metadata": {
    "colab": {},
    "colab_type": "code",
    "id": "MucET-NhGpWZ"
   },
   "outputs": [],
   "source": [
    "import random\n",
    "\n",
    "random.shuffle(train_image)\n",
    "\n"
   ]
  },
  {
   "cell_type": "code",
   "execution_count": 17,
   "metadata": {
    "colab": {
     "base_uri": "https://localhost:8080/",
     "height": 34
    },
    "colab_type": "code",
    "executionInfo": {
     "elapsed": 318,
     "status": "ok",
     "timestamp": 1591463972683,
     "user": {
      "displayName": "Amit Gupta",
      "photoUrl": "",
      "userId": "05965806125720489979"
     },
     "user_tz": 420
    },
    "id": "uUu3RZkbHTcK",
    "outputId": "cfea76a9-d3bf-4e09-c432-ed5ef37e1819"
   },
   "outputs": [
    {
     "name": "stdout",
     "output_type": "stream",
     "text": [
      "train image size = 22424\n"
     ]
    }
   ],
   "source": [
    "print(f'train image size = {len(train_image)}')"
   ]
  },
  {
   "cell_type": "code",
   "execution_count": 0,
   "metadata": {
    "colab": {},
    "colab_type": "code",
    "id": "RaukJuGdGpZV"
   },
   "outputs": [],
   "source": [
    "## getting list of driver names\n",
    "\n",
    "D = []\n",
    "for features,labels,drivers in train_image:\n",
    "    D.append(drivers)\n",
    "\n",
    "## Deduplicating drivers\n",
    "\n",
    "deduped = []\n",
    "\n",
    "for i in D:\n",
    "    if i not in deduped:\n",
    "        deduped.append(i)\n",
    "    \n",
    "\n",
    "## selecting random drivers for the validation set\n",
    "driv_selected = []\n",
    "import random\n",
    "driv_nums = random.sample(range(len(deduped)), 4)\n",
    "for i in driv_nums:\n",
    "    driv_selected.append(deduped[i])\n"
   ]
  },
  {
   "cell_type": "code",
   "execution_count": 19,
   "metadata": {
    "colab": {
     "base_uri": "https://localhost:8080/",
     "height": 34
    },
    "colab_type": "code",
    "executionInfo": {
     "elapsed": 393,
     "status": "ok",
     "timestamp": 1591463975374,
     "user": {
      "displayName": "Amit Gupta",
      "photoUrl": "",
      "userId": "05965806125720489979"
     },
     "user_tz": 420
    },
    "id": "0XqfkFLC5OZS",
    "outputId": "abd89843-34e7-4d1e-d55e-eac9e35d9b0b"
   },
   "outputs": [
    {
     "data": {
      "text/plain": [
       "[11, 17, 12, 3]"
      ]
     },
     "execution_count": 19,
     "metadata": {
      "tags": []
     },
     "output_type": "execute_result"
    }
   ],
   "source": [
    "driv_nums"
   ]
  },
  {
   "cell_type": "code",
   "execution_count": 20,
   "metadata": {
    "colab": {
     "base_uri": "https://localhost:8080/",
     "height": 34
    },
    "colab_type": "code",
    "executionInfo": {
     "elapsed": 355,
     "status": "ok",
     "timestamp": 1591463977988,
     "user": {
      "displayName": "Amit Gupta",
      "photoUrl": "",
      "userId": "05965806125720489979"
     },
     "user_tz": 420
    },
    "id": "ISh4tQe_5WEq",
    "outputId": "6b78ff1a-beba-4cbe-cb5b-79eb55ae7b17"
   },
   "outputs": [
    {
     "data": {
      "text/plain": [
       "26"
      ]
     },
     "execution_count": 20,
     "metadata": {
      "tags": []
     },
     "output_type": "execute_result"
    }
   ],
   "source": [
    "len(deduped)"
   ]
  },
  {
   "cell_type": "code",
   "execution_count": 0,
   "metadata": {
    "colab": {},
    "colab_type": "code",
    "id": "C3cbLpQO5cBn"
   },
   "outputs": [],
   "source": []
  },
  {
   "cell_type": "code",
   "execution_count": 21,
   "metadata": {
    "colab": {
     "base_uri": "https://localhost:8080/",
     "height": 51
    },
    "colab_type": "code",
    "executionInfo": {
     "elapsed": 366,
     "status": "ok",
     "timestamp": 1591463981507,
     "user": {
      "displayName": "Amit Gupta",
      "photoUrl": "",
      "userId": "05965806125720489979"
     },
     "user_tz": 420
    },
    "id": "IoFH20RCGpcx",
    "outputId": "6ddd3fd6-8c0d-4fed-bee1-e6e8cb738904"
   },
   "outputs": [
    {
     "name": "stdout",
     "output_type": "stream",
     "text": [
      "18597 3827\n",
      "18597 3827\n"
     ]
    }
   ],
   "source": [
    "## Splitting the train and test\n",
    "\n",
    "X_train= []\n",
    "y_train = []\n",
    "X_test = []\n",
    "y_test = []\n",
    "D_train = []\n",
    "D_test = []\n",
    "\n",
    "#for features,labels,drivers,features2,labels2,drivers2 in zip(train_image, train_image2):\n",
    "for features, labels, drivers in train_image:\n",
    "\n",
    "    if drivers in driv_selected:\n",
    "        X_test.append(features)\n",
    "        y_test.append(labels)\n",
    "        #D_test.append(drivers)\n",
    "    \n",
    "    else:\n",
    "        X_train.append(features)\n",
    "        y_train.append(labels)\n",
    "        #D_train.append(drivers)\n",
    "\n",
    "\n",
    "true_test = y_test\n",
    "    \n",
    "print (len(X_train),len(X_test))\n",
    "print (len(y_train),len(y_test))\n",
    "\n",
    "\n",
    "\n",
    "\n"
   ]
  },
  {
   "cell_type": "code",
   "execution_count": 22,
   "metadata": {
    "colab": {
     "base_uri": "https://localhost:8080/",
     "height": 34
    },
    "colab_type": "code",
    "executionInfo": {
     "elapsed": 428,
     "status": "ok",
     "timestamp": 1591463985726,
     "user": {
      "displayName": "Amit Gupta",
      "photoUrl": "",
      "userId": "05965806125720489979"
     },
     "user_tz": 420
    },
    "id": "nHbHOJQwx3gY",
    "outputId": "8058dc13-7a11-4caf-def1-064bf17106cb"
   },
   "outputs": [
    {
     "data": {
      "text/plain": [
       "18597"
      ]
     },
     "execution_count": 22,
     "metadata": {
      "tags": []
     },
     "output_type": "execute_result"
    }
   ],
   "source": [
    "len(X_train)"
   ]
  },
  {
   "cell_type": "code",
   "execution_count": 23,
   "metadata": {
    "colab": {
     "base_uri": "https://localhost:8080/",
     "height": 85
    },
    "colab_type": "code",
    "executionInfo": {
     "elapsed": 1298,
     "status": "ok",
     "timestamp": 1591463988676,
     "user": {
      "displayName": "Amit Gupta",
      "photoUrl": "",
      "userId": "05965806125720489979"
     },
     "user_tz": 420
    },
    "id": "Jlp7ToMJGpfj",
    "outputId": "9c529055-023b-4826-febc-5e754bc2fa4e"
   },
   "outputs": [
    {
     "name": "stdout",
     "output_type": "stream",
     "text": [
      "(18597, 224, 224, 3)\n",
      "(3827, 224, 224, 3)\n",
      "(18597, 10)\n",
      "(3827, 10)\n"
     ]
    }
   ],
   "source": [
    "## Converting images to nparray. Encoding the Y\n",
    "\n",
    "X_train = np.array(X_train).reshape(-1,224,224,3)\n",
    "X_test = np.array(X_test).reshape(-1,224,224,3)\n",
    "y_train = to_categorical(y_train)\n",
    "y_test = to_categorical(y_test)\n",
    "\n",
    "#X_train = X_train/255\n",
    "#X_test = X_test/255\n",
    "\n",
    "\n",
    "print (X_train.shape)\n",
    "print (X_test.shape)\n",
    "print (y_train.shape)\n",
    "print (y_test.shape)\n"
   ]
  },
  {
   "cell_type": "code",
   "execution_count": 0,
   "metadata": {
    "colab": {},
    "colab_type": "code",
    "id": "6r357qegWBvC"
   },
   "outputs": [],
   "source": [
    "X_train[0]"
   ]
  },
  {
   "cell_type": "code",
   "execution_count": 0,
   "metadata": {
    "colab": {},
    "colab_type": "code",
    "id": "12dMipCGN5cs"
   },
   "outputs": [],
   "source": [
    "from __future__ import print_function  # for Python2\n",
    "import sys\n",
    "\n",
    "local_vars = list(locals().items())\n",
    "for var, obj in local_vars:\n",
    "  #print(var, sys.getsizeof(obj))\n",
    "  pass"
   ]
  },
  {
   "cell_type": "code",
   "execution_count": 24,
   "metadata": {
    "colab": {
     "base_uri": "https://localhost:8080/",
     "height": 833
    },
    "colab_type": "code",
    "executionInfo": {
     "elapsed": 10956,
     "status": "ok",
     "timestamp": 1591464003242,
     "user": {
      "displayName": "Amit Gupta",
      "photoUrl": "",
      "userId": "05965806125720489979"
     },
     "user_tz": 420
    },
    "id": "8dNH_HZilPaM",
    "outputId": "9f37d54a-fb87-4915-fe2e-dc8f09256bb8"
   },
   "outputs": [
    {
     "name": "stdout",
     "output_type": "stream",
     "text": [
      "Downloading data from https://github.com/fchollet/deep-learning-models/releases/download/v0.1/vgg16_weights_tf_dim_ordering_tf_kernels_notop.h5\n",
      "58892288/58889256 [==============================] - 2s 0us/step\n",
      "Model: \"vgg16\"\n",
      "_________________________________________________________________\n",
      "Layer (type)                 Output Shape              Param #   \n",
      "=================================================================\n",
      "orig_image_input (InputLayer (None, 224, 224, 3)       0         \n",
      "_________________________________________________________________\n",
      "block1_conv1 (Conv2D)        (None, 224, 224, 64)      1792      \n",
      "_________________________________________________________________\n",
      "block1_conv2 (Conv2D)        (None, 224, 224, 64)      36928     \n",
      "_________________________________________________________________\n",
      "block1_pool (MaxPooling2D)   (None, 112, 112, 64)      0         \n",
      "_________________________________________________________________\n",
      "block2_conv1 (Conv2D)        (None, 112, 112, 128)     73856     \n",
      "_________________________________________________________________\n",
      "block2_conv2 (Conv2D)        (None, 112, 112, 128)     147584    \n",
      "_________________________________________________________________\n",
      "block2_pool (MaxPooling2D)   (None, 56, 56, 128)       0         \n",
      "_________________________________________________________________\n",
      "block3_conv1 (Conv2D)        (None, 56, 56, 256)       295168    \n",
      "_________________________________________________________________\n",
      "block3_conv2 (Conv2D)        (None, 56, 56, 256)       590080    \n",
      "_________________________________________________________________\n",
      "block3_conv3 (Conv2D)        (None, 56, 56, 256)       590080    \n",
      "_________________________________________________________________\n",
      "block3_pool (MaxPooling2D)   (None, 28, 28, 256)       0         \n",
      "_________________________________________________________________\n",
      "block4_conv1 (Conv2D)        (None, 28, 28, 512)       1180160   \n",
      "_________________________________________________________________\n",
      "block4_conv2 (Conv2D)        (None, 28, 28, 512)       2359808   \n",
      "_________________________________________________________________\n",
      "block4_conv3 (Conv2D)        (None, 28, 28, 512)       2359808   \n",
      "_________________________________________________________________\n",
      "block4_pool (MaxPooling2D)   (None, 14, 14, 512)       0         \n",
      "_________________________________________________________________\n",
      "block5_conv1 (Conv2D)        (None, 14, 14, 512)       2359808   \n",
      "_________________________________________________________________\n",
      "block5_conv2 (Conv2D)        (None, 14, 14, 512)       2359808   \n",
      "_________________________________________________________________\n",
      "block5_conv3 (Conv2D)        (None, 14, 14, 512)       2359808   \n",
      "_________________________________________________________________\n",
      "block5_pool (MaxPooling2D)   (None, 7, 7, 512)         0         \n",
      "=================================================================\n",
      "Total params: 14,714,688\n",
      "Trainable params: 14,714,688\n",
      "Non-trainable params: 0\n",
      "_________________________________________________________________\n"
     ]
    }
   ],
   "source": [
    "## Defining the input\n",
    "\n",
    "from keras.layers import Input\n",
    "model1_input = Input(shape = (224, 224, 3), name = 'orig_image_input')\n",
    "\n",
    "## The VGG model\n",
    "\n",
    "from keras.applications.vgg16 import VGG16, preprocess_input\n",
    "\n",
    "#Get back the convolutional part of a VGG network trained on ImageNet\n",
    "model1 = VGG16(weights='imagenet', include_top=False, input_tensor = model1_input)\n",
    "#model1.trainable = False\n",
    "model1.summary()\n",
    "\n"
   ]
  },
  {
   "cell_type": "code",
   "execution_count": 0,
   "metadata": {
    "colab": {},
    "colab_type": "code",
    "id": "iY7CAPT7GpiC"
   },
   "outputs": [],
   "source": []
  },
  {
   "cell_type": "code",
   "execution_count": 0,
   "metadata": {
    "colab": {},
    "colab_type": "code",
    "id": "_lBw1i1Xk34T"
   },
   "outputs": [],
   "source": []
  },
  {
   "cell_type": "code",
   "execution_count": 25,
   "metadata": {
    "colab": {
     "base_uri": "https://localhost:8080/",
     "height": 493
    },
    "colab_type": "code",
    "executionInfo": {
     "elapsed": 661,
     "status": "ok",
     "timestamp": 1591464003911,
     "user": {
      "displayName": "Amit Gupta",
      "photoUrl": "",
      "userId": "05965806125720489979"
     },
     "user_tz": 420
    },
    "id": "rJf-DE7DdURw",
    "outputId": "dc741387-24a4-4166-99b8-614f06d433f6"
   },
   "outputs": [
    {
     "name": "stdout",
     "output_type": "stream",
     "text": [
      "Model: \"model_1\"\n",
      "_________________________________________________________________\n",
      "Layer (type)                 Output Shape              Param #   \n",
      "=================================================================\n",
      "orig_image_input (InputLayer (None, 224, 224, 3)       0         \n",
      "_________________________________________________________________\n",
      "vgg16 (Model)                (None, 7, 7, 512)         14714688  \n",
      "_________________________________________________________________\n",
      "global_average_pooling2d_1 ( (None, 512)               0         \n",
      "_________________________________________________________________\n",
      "dense_1 (Dense)              (None, 1024)              525312    \n",
      "_________________________________________________________________\n",
      "dropout_1 (Dropout)          (None, 1024)              0         \n",
      "_________________________________________________________________\n",
      "dense_2 (Dense)              (None, 1024)              1049600   \n",
      "_________________________________________________________________\n",
      "batch_normalization_1 (Batch (None, 1024)              4096      \n",
      "_________________________________________________________________\n",
      "dropout_2 (Dropout)          (None, 1024)              0         \n",
      "_________________________________________________________________\n",
      "dense_3 (Dense)              (None, 512)               524800    \n",
      "_________________________________________________________________\n",
      "predictions (Dense)          (None, 10)                5130      \n",
      "=================================================================\n",
      "Total params: 16,823,626\n",
      "Trainable params: 16,821,578\n",
      "Non-trainable params: 2,048\n",
      "_________________________________________________________________\n"
     ]
    }
   ],
   "source": [
    "#Use the generated model \n",
    "from keras.models import Model\n",
    "from keras.layers import Dropout, Flatten, Dense, GlobalAveragePooling2D\n",
    "from keras.layers.normalization import BatchNormalization\n",
    "\n",
    "output_vgg16_conv = model1(model1_input)\n",
    "\n",
    "#Add the fully-connected layers \n",
    "x=GlobalAveragePooling2D()(output_vgg16_conv)\n",
    "#x = Flatten()(output_vgg16_conv)\n",
    "\n",
    "x=Dense(1024,activation='relu')(x) #we add dense layers so that the model can learn more complex functions and classify for better results.\n",
    "x = Dropout(0.1)(x) # **reduce dropout \n",
    "x=Dense(1024,activation='relu')(x) #dense layer 2\n",
    "x = BatchNormalization()(x)\n",
    "x = Dropout(0.35)(x)\n",
    "x = Dense(512,activation='relu')(x) #dense layer 3\n",
    "x = Dense(10, activation='softmax', name='predictions')(x)\n",
    "\n",
    "singleModel = Model(input = model1_input, output = x)\n",
    "singleModel.summary()\n",
    "\n",
    "# Compile CNN model\n",
    "sgd = optimizers.SGD(lr = 0.001)\n",
    "singleModel.compile(loss='categorical_crossentropy',optimizer = sgd,metrics=['accuracy'])\n"
   ]
  },
  {
   "cell_type": "code",
   "execution_count": 0,
   "metadata": {
    "colab": {},
    "colab_type": "code",
    "id": "zde8bARleR9O"
   },
   "outputs": [],
   "source": [
    "#singleModel.fit(X_train, y_train, epochs=25, validation_data=(X_test, y_test))"
   ]
  },
  {
   "cell_type": "code",
   "execution_count": 26,
   "metadata": {
    "colab": {
     "base_uri": "https://localhost:8080/",
     "height": 1000
    },
    "colab_type": "code",
    "executionInfo": {
     "elapsed": 3110582,
     "status": "ok",
     "timestamp": 1591467113839,
     "user": {
      "displayName": "Amit Gupta",
      "photoUrl": "",
      "userId": "05965806125720489979"
     },
     "user_tz": 420
    },
    "id": "KHlcK4zQdXgo",
    "outputId": "6c34e7c7-357b-4e73-9e25-844102efa60a"
   },
   "outputs": [
    {
     "name": "stdout",
     "output_type": "stream",
     "text": [
      "Epoch 1/25\n",
      "291/290 [==============================] - 192s 661ms/step - loss: 2.5129 - accuracy: 0.1580 - val_loss: 1.6307 - val_accuracy: 0.4468\n",
      "\n",
      "Epoch 00001: val_loss improved from inf to 1.63070, saving model to /content/drive/My Drive/kaggle/singlemaskModel_aug.h5\n",
      "Epoch 2/25\n",
      "291/290 [==============================] - 182s 626ms/step - loss: 1.7279 - accuracy: 0.3988 - val_loss: 0.9848 - val_accuracy: 0.6791\n",
      "\n",
      "Epoch 00002: val_loss improved from 1.63070 to 0.98482, saving model to /content/drive/My Drive/kaggle/singlemaskModel_aug.h5\n",
      "Epoch 3/25\n",
      "291/290 [==============================] - 184s 631ms/step - loss: 1.1617 - accuracy: 0.5979 - val_loss: 0.6851 - val_accuracy: 0.7484\n",
      "\n",
      "Epoch 00003: val_loss improved from 0.98482 to 0.68509, saving model to /content/drive/My Drive/kaggle/singlemaskModel_aug.h5\n",
      "Epoch 4/25\n",
      "291/290 [==============================] - 185s 637ms/step - loss: 0.9471 - accuracy: 0.6739 - val_loss: 0.6149 - val_accuracy: 0.8038\n",
      "\n",
      "Epoch 00004: val_loss improved from 0.68509 to 0.61490, saving model to /content/drive/My Drive/kaggle/singlemaskModel_aug.h5\n",
      "Epoch 5/25\n",
      "291/290 [==============================] - 186s 639ms/step - loss: 0.8017 - accuracy: 0.7270 - val_loss: 0.5778 - val_accuracy: 0.8296\n",
      "\n",
      "Epoch 00005: val_loss improved from 0.61490 to 0.57777, saving model to /content/drive/My Drive/kaggle/singlemaskModel_aug.h5\n",
      "Epoch 6/25\n",
      "291/290 [==============================] - 183s 631ms/step - loss: 0.7165 - accuracy: 0.7546 - val_loss: 0.7362 - val_accuracy: 0.8160\n",
      "\n",
      "Epoch 00006: val_loss did not improve from 0.57777\n",
      "Epoch 7/25\n",
      "291/290 [==============================] - 180s 617ms/step - loss: 0.6520 - accuracy: 0.7789 - val_loss: 0.7106 - val_accuracy: 0.8210\n",
      "\n",
      "Epoch 00007: val_loss did not improve from 0.57777\n",
      "Epoch 8/25\n",
      "291/290 [==============================] - 180s 619ms/step - loss: 0.5998 - accuracy: 0.7956 - val_loss: 0.6815 - val_accuracy: 0.8307\n",
      "\n",
      "Epoch 00008: val_loss did not improve from 0.57777\n",
      "Epoch 9/25\n",
      "291/290 [==============================] - 180s 619ms/step - loss: 0.5676 - accuracy: 0.8045 - val_loss: 0.5896 - val_accuracy: 0.8471\n",
      "\n",
      "Epoch 00009: val_loss did not improve from 0.57777\n",
      "Epoch 10/25\n",
      "291/290 [==============================] - 179s 617ms/step - loss: 0.5358 - accuracy: 0.8187 - val_loss: 0.5099 - val_accuracy: 0.8670\n",
      "\n",
      "Epoch 00010: val_loss improved from 0.57777 to 0.50985, saving model to /content/drive/My Drive/kaggle/singlemaskModel_aug.h5\n",
      "Epoch 11/25\n",
      "291/290 [==============================] - 180s 617ms/step - loss: 0.4984 - accuracy: 0.8319 - val_loss: 0.6574 - val_accuracy: 0.8273\n",
      "\n",
      "Epoch 00011: val_loss did not improve from 0.50985\n",
      "Epoch 12/25\n",
      "291/290 [==============================] - 180s 618ms/step - loss: 0.4957 - accuracy: 0.8361 - val_loss: 0.4137 - val_accuracy: 0.8861\n",
      "\n",
      "Epoch 00012: val_loss improved from 0.50985 to 0.41366, saving model to /content/drive/My Drive/kaggle/singlemaskModel_aug.h5\n",
      "Epoch 13/25\n",
      "291/290 [==============================] - 179s 616ms/step - loss: 0.4641 - accuracy: 0.8451 - val_loss: 0.5994 - val_accuracy: 0.8430\n",
      "\n",
      "Epoch 00013: val_loss did not improve from 0.41366\n",
      "Epoch 14/25\n",
      "291/290 [==============================] - 179s 616ms/step - loss: 0.4393 - accuracy: 0.8508 - val_loss: 0.7868 - val_accuracy: 0.8121\n",
      "\n",
      "Epoch 00014: val_loss did not improve from 0.41366\n",
      "Epoch 15/25\n",
      "291/290 [==============================] - 179s 614ms/step - loss: 0.4169 - accuracy: 0.8576 - val_loss: 0.5293 - val_accuracy: 0.8646\n",
      "\n",
      "Epoch 00015: val_loss did not improve from 0.41366\n",
      "Epoch 16/25\n",
      "291/290 [==============================] - 179s 616ms/step - loss: 0.4231 - accuracy: 0.8568 - val_loss: 0.8376 - val_accuracy: 0.8150\n",
      "\n",
      "Epoch 00016: val_loss did not improve from 0.41366\n",
      "Epoch 17/25\n",
      "291/290 [==============================] - 179s 616ms/step - loss: 0.3921 - accuracy: 0.8677 - val_loss: 0.4936 - val_accuracy: 0.8707\n",
      "\n",
      "Epoch 00017: val_loss did not improve from 0.41366\n",
      "Epoch 00017: early stopping\n"
     ]
    }
   ],
   "source": [
    "from keras.preprocessing.image import ImageDataGenerator\n",
    "from keras.callbacks import ModelCheckpoint,EarlyStopping\n",
    "\n",
    "checkpointer = ModelCheckpoint('/content/drive/My Drive/kaggle/singlemaskModel_aug.h5', verbose=1, save_best_only=True)\n",
    "earlystopper = EarlyStopping(monitor='val_loss', patience=5, verbose=1)\n",
    "\n",
    "\n",
    "datagen = ImageDataGenerator(\n",
    "    height_shift_range=0.5,\n",
    "    width_shift_range = 0.5,\n",
    "    zoom_range = 0.5,\n",
    "    rotation_range=30\n",
    "        )\n",
    "#datagen.fit(X_train)\n",
    "data_generator = datagen.flow(X_train, y_train, batch_size = 64)\n",
    "\n",
    "# Fits the model on batches with real-time data augmentation:\n",
    "vgg16_model = singleModel.fit_generator(data_generator,steps_per_epoch = len(X_train) / 64, callbacks=[checkpointer, earlystopper],\n",
    "                                                            epochs = 25, verbose = 1, validation_data = (X_test, y_test))\n",
    "\n",
    "#vgg16_model = singleModel.fit_generator(data_generator,steps_per_epoch = len(X_train) / 64,\n",
    "#                                                            epochs = 25, verbose = 1, validation_data = (X_test, y_test))\n",
    "\n"
   ]
  },
  {
   "cell_type": "code",
   "execution_count": 0,
   "metadata": {
    "colab": {},
    "colab_type": "code",
    "id": "xd5H2X5tGnED"
   },
   "outputs": [],
   "source": [
    "#vgg16_model.save(\"/content/drive/My Drive/kaggle/singleModel_aug.h5\")\n",
    "singleModel.save_weights(\"/content/drive/My Drive/kaggle/singlemaskModel_aug_weights.h5\")"
   ]
  },
  {
   "cell_type": "code",
   "execution_count": 29,
   "metadata": {
    "colab": {
     "base_uri": "https://localhost:8080/",
     "height": 493
    },
    "colab_type": "code",
    "executionInfo": {
     "elapsed": 5694,
     "status": "ok",
     "timestamp": 1591471354293,
     "user": {
      "displayName": "Amit Gupta",
      "photoUrl": "",
      "userId": "05965806125720489979"
     },
     "user_tz": 420
    },
    "id": "SklAZD_fT0Hy",
    "outputId": "310ad490-ad38-4768-95b6-c9de193b9f55"
   },
   "outputs": [
    {
     "name": "stdout",
     "output_type": "stream",
     "text": [
      "Model: \"model_1\"\n",
      "_________________________________________________________________\n",
      "Layer (type)                 Output Shape              Param #   \n",
      "=================================================================\n",
      "orig_image_input (InputLayer (None, 224, 224, 3)       0         \n",
      "_________________________________________________________________\n",
      "vgg16 (Model)                (None, 7, 7, 512)         14714688  \n",
      "_________________________________________________________________\n",
      "global_average_pooling2d_1 ( (None, 512)               0         \n",
      "_________________________________________________________________\n",
      "dense_1 (Dense)              (None, 1024)              525312    \n",
      "_________________________________________________________________\n",
      "dropout_1 (Dropout)          (None, 1024)              0         \n",
      "_________________________________________________________________\n",
      "dense_2 (Dense)              (None, 1024)              1049600   \n",
      "_________________________________________________________________\n",
      "batch_normalization_1 (Batch (None, 1024)              4096      \n",
      "_________________________________________________________________\n",
      "dropout_2 (Dropout)          (None, 1024)              0         \n",
      "_________________________________________________________________\n",
      "dense_3 (Dense)              (None, 512)               524800    \n",
      "_________________________________________________________________\n",
      "predictions (Dense)          (None, 10)                5130      \n",
      "=================================================================\n",
      "Total params: 16,823,626\n",
      "Trainable params: 16,821,578\n",
      "Non-trainable params: 2,048\n",
      "_________________________________________________________________\n"
     ]
    }
   ],
   "source": [
    "from keras.models import load_model\n",
    "rcModel = load_model('/content/drive/My Drive/kaggle/singlemaskModel_aug.h5')\n",
    "rcModel.summary()"
   ]
  },
  {
   "cell_type": "code",
   "execution_count": 0,
   "metadata": {
    "colab": {},
    "colab_type": "code",
    "id": "1zyAbBXXWti4"
   },
   "outputs": [],
   "source": []
  },
  {
   "cell_type": "code",
   "execution_count": 30,
   "metadata": {
    "colab": {
     "base_uri": "https://localhost:8080/",
     "height": 238
    },
    "colab_type": "code",
    "executionInfo": {
     "elapsed": 11141,
     "status": "ok",
     "timestamp": 1591471369216,
     "user": {
      "displayName": "Amit Gupta",
      "photoUrl": "",
      "userId": "05965806125720489979"
     },
     "user_tz": 420
    },
    "id": "E4UBzXvyTnt-",
    "outputId": "52d02595-c52f-409e-c052-7c4ed8829dff"
   },
   "outputs": [
    {
     "name": "stdout",
     "output_type": "stream",
     "text": [
      "Images Predicted until now: 3827\n",
      "True images: 3827\n",
      "The accuracy of this model over validation set is: 0.8860726417559446\n"
     ]
    },
    {
     "data": {
      "text/plain": [
       "array([[336,   3,   0,   0,   3,   3,   0,   2,  57,   7],\n",
       "       [  5, 387,   0,   0,   0,   0,   4,   0,  11,   0],\n",
       "       [  0,   0, 380,   0,   0,   0,   1,   4,  25,   0],\n",
       "       [  0,   0,   0, 389,   6,   0,   1,   0,   0,   2],\n",
       "       [  0,   0,   0,   0, 389,   0,   2,   0,  12,   2],\n",
       "       [  3,   0,   0,   0,   0, 379,   0,   0,   0,   0],\n",
       "       [  0,   0,   0,   0,   0,   0, 382,   1,  28,   0],\n",
       "       [  0,   0,   0,   0,   0,   0,   0, 272,   0,   0],\n",
       "       [ 10,   0,  43,   0,  10,   1,   7,   8, 213,   5],\n",
       "       [166,   0,   0,   0,   0,   3,   0,   0,   1, 264]])"
      ]
     },
     "execution_count": 30,
     "metadata": {
      "tags": []
     },
     "output_type": "execute_result"
    }
   ],
   "source": [
    "# labels is the image array\n",
    "\n",
    "from sklearn.metrics import accuracy_score, confusion_matrix\n",
    "\n",
    "model1_prediction = []\n",
    "model1_pred_class = []\n",
    "\n",
    "model1_prediction = rcModel.predict(X_test)\n",
    "print('Images Predicted until now:',len(model1_prediction))\n",
    "print(f'True images: {len(true_test)}')\n",
    "\n",
    "for i in range(len(model1_prediction)):\n",
    "    model1_pred_class.append(np.where(model1_prediction[i] == np.amax(model1_prediction[i]))[0][0])\n",
    "\n",
    "    \n",
    "print('The accuracy of this model over validation set is:',accuracy_score(true_test,model1_pred_class))\n",
    "confusion_matrix(true_test,model1_pred_class)"
   ]
  },
  {
   "cell_type": "code",
   "execution_count": 31,
   "metadata": {
    "colab": {
     "base_uri": "https://localhost:8080/",
     "height": 238
    },
    "colab_type": "code",
    "executionInfo": {
     "elapsed": 345,
     "status": "ok",
     "timestamp": 1591471373615,
     "user": {
      "displayName": "Amit Gupta",
      "photoUrl": "",
      "userId": "05965806125720489979"
     },
     "user_tz": 420
    },
    "id": "P2PQ1gIhXXIO",
    "outputId": "a1767cbc-84d7-4513-8ce6-8de8c515ef2c"
   },
   "outputs": [
    {
     "name": "stdout",
     "output_type": "stream",
     "text": [
      "prediction=[[6.32527292e-01 3.55592550e-04 2.59549648e-04 ... 2.88804236e-04\n",
      "  7.14419130e-03 3.39608192e-01]\n",
      " [3.68618569e-03 7.37958448e-03 2.35473178e-03 ... 6.01615291e-04\n",
      "  1.11919525e-03 3.46934277e-04]\n",
      " [6.20885839e-06 1.04078817e-05 3.46379547e-09 ... 4.48854394e-08\n",
      "  8.84906513e-08 1.28789429e-06]\n",
      " ...\n",
      " [6.09843509e-09 2.65331479e-10 3.79946546e-10 ... 3.75499805e-11\n",
      "  3.95628819e-09 2.69009259e-09]\n",
      " [1.08291976e-01 2.28985492e-03 2.12338357e-03 ... 1.56412106e-02\n",
      "  2.02571298e-03 8.63696218e-01]\n",
      " [8.35100489e-10 1.59526767e-10 1.00000000e+00 ... 1.56469981e-09\n",
      "  3.78676335e-09 3.51924351e-10]], shape=(3827, 10)\n"
     ]
    }
   ],
   "source": [
    "print(f'prediction={model1_prediction}, shape={model1_prediction.shape}')"
   ]
  },
  {
   "cell_type": "code",
   "execution_count": 32,
   "metadata": {
    "colab": {
     "base_uri": "https://localhost:8080/",
     "height": 34
    },
    "colab_type": "code",
    "executionInfo": {
     "elapsed": 330,
     "status": "ok",
     "timestamp": 1591471379096,
     "user": {
      "displayName": "Amit Gupta",
      "photoUrl": "",
      "userId": "05965806125720489979"
     },
     "user_tz": 420
    },
    "id": "yP06M7AwXrVO",
    "outputId": "7da16740-85d9-4a25-f7b1-ae8a4ce00a6c"
   },
   "outputs": [
    {
     "name": "stdout",
     "output_type": "stream",
     "text": [
      "The log loss from this model is: 0.41\n"
     ]
    }
   ],
   "source": [
    "from sklearn.metrics import log_loss\n",
    "\n",
    "lgloss = log_loss(y_test, model1_prediction, eps=1e-15, normalize=True, sample_weight=None, labels=None)\n",
    "\n",
    "print('The log loss from this model is:',round(lgloss,2))"
   ]
  },
  {
   "cell_type": "code",
   "execution_count": 0,
   "metadata": {
    "colab": {},
    "colab_type": "code",
    "id": "QAZ-Lj8n2r4C"
   },
   "outputs": [],
   "source": []
  }
 ],
 "metadata": {
  "accelerator": "GPU",
  "colab": {
   "collapsed_sections": [],
   "machine_shape": "hm",
   "name": "ddsinglemask",
   "provenance": [
    {
     "file_id": "1eTVNAap4dPVOlGF70SqR1kG1rTFPpaYh",
     "timestamp": 1591057931697
    },
    {
     "file_id": "1mdbVqsqjuqNrirm_Cj2hrkLS4zmTu86Z",
     "timestamp": 1590686604373
    },
    {
     "file_id": "/v2/external/notebooks/pro.ipynb",
     "timestamp": 1590261075923
    }
   ]
  },
  "kernelspec": {
   "display_name": "Python 3",
   "language": "python",
   "name": "python3"
  },
  "language_info": {
   "codemirror_mode": {
    "name": "ipython",
    "version": 3
   },
   "file_extension": ".py",
   "mimetype": "text/x-python",
   "name": "python",
   "nbconvert_exporter": "python",
   "pygments_lexer": "ipython3",
   "version": "3.7.2"
  }
 },
 "nbformat": 4,
 "nbformat_minor": 1
}
