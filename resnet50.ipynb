{
 "cells": [
  {
   "cell_type": "markdown",
   "metadata": {
    "colab_type": "text",
    "id": "SKQ4bH7qMGrA"
   },
   "source": [
    "# Taking advantage of Colab Pro\n",
    "\n"
   ]
  },
  {
   "cell_type": "markdown",
   "metadata": {
    "colab_type": "text",
    "id": "QMMqmdiYMkvi"
   },
   "source": [
    "## Faster GPUs\n",
    "\n",
    "With Colab Pro you have priority access to our fastest GPUs. For example, you may get a T4 or P100 GPU at times when most users of standard Colab receive a slower K80 GPU. You can see what GPU you've been assigned at any time by executing the following cell."
   ]
  },
  {
   "cell_type": "code",
   "execution_count": 2,
   "metadata": {
    "colab": {
     "base_uri": "https://localhost:8080/",
     "height": 306
    },
    "colab_type": "code",
    "executionInfo": {
     "elapsed": 6828,
     "status": "ok",
     "timestamp": 1591466190746,
     "user": {
      "displayName": "Amit Gupta",
      "photoUrl": "",
      "userId": "05965806125720489979"
     },
     "user_tz": 420
    },
    "id": "23TOba33L4qf",
    "outputId": "6d3ddfb1-2176-4b1d-d1d1-d6d1bfefd9b6"
   },
   "outputs": [
    {
     "name": "stdout",
     "output_type": "stream",
     "text": [
      "Sat Jun  6 17:56:29 2020       \n",
      "+-----------------------------------------------------------------------------+\n",
      "| NVIDIA-SMI 440.82       Driver Version: 418.67       CUDA Version: 10.1     |\n",
      "|-------------------------------+----------------------+----------------------+\n",
      "| GPU  Name        Persistence-M| Bus-Id        Disp.A | Volatile Uncorr. ECC |\n",
      "| Fan  Temp  Perf  Pwr:Usage/Cap|         Memory-Usage | GPU-Util  Compute M. |\n",
      "|===============================+======================+======================|\n",
      "|   0  Tesla P100-PCIE...  Off  | 00000000:00:04.0 Off |                    0 |\n",
      "| N/A   37C    P0    26W / 250W |      0MiB / 16280MiB |      0%      Default |\n",
      "+-------------------------------+----------------------+----------------------+\n",
      "                                                                               \n",
      "+-----------------------------------------------------------------------------+\n",
      "| Processes:                                                       GPU Memory |\n",
      "|  GPU       PID   Type   Process name                             Usage      |\n",
      "|=============================================================================|\n",
      "|  No running processes found                                                 |\n",
      "+-----------------------------------------------------------------------------+\n"
     ]
    }
   ],
   "source": [
    "gpu_info = !nvidia-smi\n",
    "gpu_info = '\\n'.join(gpu_info)\n",
    "if gpu_info.find('failed') >= 0:\n",
    "  print('Select the Runtime > \"Change runtime type\" menu to enable a GPU accelerator, ')\n",
    "  print('and then re-execute this cell.')\n",
    "else:\n",
    "  print(gpu_info)"
   ]
  },
  {
   "cell_type": "markdown",
   "metadata": {
    "colab_type": "text",
    "id": "Sa-IrJS1aRVJ"
   },
   "source": [
    "In order to use a GPU with your notebook, select the Runtime > Change runtime type menu, and then set the hardware accelerator dropdown to GPU."
   ]
  },
  {
   "cell_type": "markdown",
   "metadata": {
    "colab_type": "text",
    "id": "65MSuHKqNeBZ"
   },
   "source": [
    "## More memory\n",
    "\n",
    "With Colab Pro you have the option to access high-memory VMs when they are available. To set your notebook preference to use a high-memory runtime, select the Runtime > 'Change runtime type' menu, and then select High-RAM in the Runtime shape dropdown.\n",
    "\n",
    "You can see how much memory you have available at any time by running the following code.\n"
   ]
  },
  {
   "cell_type": "code",
   "execution_count": 3,
   "metadata": {
    "colab": {
     "base_uri": "https://localhost:8080/",
     "height": 68
    },
    "colab_type": "code",
    "executionInfo": {
     "elapsed": 6957,
     "status": "ok",
     "timestamp": 1591466190884,
     "user": {
      "displayName": "Amit Gupta",
      "photoUrl": "",
      "userId": "05965806125720489979"
     },
     "user_tz": 420
    },
    "id": "V1G82GuO-tez",
    "outputId": "253dc2ad-fdfe-4f48-d61a-1a79600c8664"
   },
   "outputs": [
    {
     "name": "stdout",
     "output_type": "stream",
     "text": [
      "Your runtime has 27.4 gigabytes of available RAM\n",
      "\n",
      "You are using a high-RAM runtime!\n"
     ]
    }
   ],
   "source": [
    "from psutil import virtual_memory\n",
    "ram_gb = virtual_memory().total / 1e9\n",
    "print('Your runtime has {:.1f} gigabytes of available RAM\\n'.format(ram_gb))\n",
    "\n",
    "if ram_gb < 20:\n",
    "  print('To enable a high-RAM runtime, select the Runtime > \"Change runtime type\"')\n",
    "  print('menu, and then select High-RAM in the Runtime shape dropdown. Then, ')\n",
    "  print('re-execute this cell.')\n",
    "else:\n",
    "  print('You are using a high-RAM runtime!')"
   ]
  },
  {
   "cell_type": "code",
   "execution_count": 4,
   "metadata": {
    "colab": {
     "base_uri": "https://localhost:8080/",
     "height": 34
    },
    "colab_type": "code",
    "executionInfo": {
     "elapsed": 6944,
     "status": "ok",
     "timestamp": 1591466190885,
     "user": {
      "displayName": "Amit Gupta",
      "photoUrl": "",
      "userId": "05965806125720489979"
     },
     "user_tz": 420
    },
    "id": "UKGhC3GK3mKM",
    "outputId": "8a5a99d2-771c-47dc-c561-250a7d9ebd2c"
   },
   "outputs": [
    {
     "name": "stdout",
     "output_type": "stream",
     "text": [
      "Drive already mounted at /content/drive; to attempt to forcibly remount, call drive.mount(\"/content/drive\", force_remount=True).\n"
     ]
    }
   ],
   "source": [
    "from google.colab import drive\n",
    "drive.mount('/content/drive')"
   ]
  },
  {
   "cell_type": "code",
   "execution_count": 0,
   "metadata": {
    "colab": {},
    "colab_type": "code",
    "id": "5wc4NJ7y72cY"
   },
   "outputs": [],
   "source": []
  },
  {
   "cell_type": "markdown",
   "metadata": {
    "colab_type": "text",
    "id": "BJW8Qi-pPpep"
   },
   "source": [
    "## Longer runtimes\n",
    "\n",
    "All Colab runtimes are reset after some period of time (which is faster if the runtime isn't executing code). While Colab Pro subscribers still have limits, these will be roughly twice the limits for non-subscribers."
   ]
  },
  {
   "cell_type": "markdown",
   "metadata": {
    "colab_type": "text",
    "id": "uLlTRcMM_h0k"
   },
   "source": [
    "## Resource limits in Colab Pro\n",
    "\n",
    "Your resources are not unlimited in Colab Pro. To make the most of Colab Pro, please avoid using resources when you don't need them. For example, only use a GPU or high-RAM runtime when required, and close Colab tabs when finished.\n"
   ]
  },
  {
   "cell_type": "markdown",
   "metadata": {
    "colab_type": "text",
    "id": "mm8FzEidvPs6"
   },
   "source": [
    "## Send us feedback!\n",
    "\n",
    "If you have any feedback for us, please let us know. The best way to send feedback is by using the Help > 'Send feedback...' menu. If you encounter usage limits in Colab Pro and would be interested in a product with higher usage limits, do let us know.\n",
    "\n",
    "If you encounter errors or other issues with billing (payments) for Colab Pro, please email colab-billing@google.com."
   ]
  },
  {
   "cell_type": "code",
   "execution_count": 5,
   "metadata": {
    "colab": {
     "base_uri": "https://localhost:8080/",
     "height": 88
    },
    "colab_type": "code",
    "executionInfo": {
     "elapsed": 10244,
     "status": "ok",
     "timestamp": 1591466194222,
     "user": {
      "displayName": "Amit Gupta",
      "photoUrl": "",
      "userId": "05965806125720489979"
     },
     "user_tz": 420
    },
    "id": "PGql69jz76OO",
    "outputId": "8b5ef3f6-cf3c-4e91-d879-07faa1a3e5e7"
   },
   "outputs": [
    {
     "name": "stderr",
     "output_type": "stream",
     "text": [
      "/usr/local/lib/python3.6/dist-packages/statsmodels/tools/_testing.py:19: FutureWarning: pandas.util.testing is deprecated. Use the functions in the public API at pandas.testing instead.\n",
      "  import pandas.util.testing as tm\n",
      "Using TensorFlow backend.\n"
     ]
    }
   ],
   "source": [
    "import os\n",
    "import random\n",
    "import numpy as np\n",
    "import pandas as pd \n",
    "from skimage import io\n",
    "from skimage import color\n",
    "from PIL import Image\n",
    "from IPython.display import display\n",
    "import matplotlib.pyplot as plt\n",
    "import seaborn as sns\n",
    "from dask.array.image import imread\n",
    "from dask import bag, threaded\n",
    "from dask.diagnostics import ProgressBar\n",
    "import cv2\n",
    "from sklearn.model_selection import train_test_split\n",
    "import warnings\n",
    "warnings.filterwarnings(\"ignore\")\n",
    "\n",
    "\n",
    "\n",
    "import keras\n",
    "from keras.models import Sequential\n",
    "from keras.layers import Dropout, Flatten, Dense,GlobalAveragePooling2D\n",
    "from keras.layers import Flatten,Dropout\n",
    "from keras.layers import Conv2D, MaxPooling2D\n",
    "from keras.utils import to_categorical\n",
    "from keras.preprocessing import image \n",
    "from keras.layers.normalization import BatchNormalization\n",
    "from keras import optimizers\n"
   ]
  },
  {
   "cell_type": "code",
   "execution_count": 6,
   "metadata": {
    "colab": {
     "base_uri": "https://localhost:8080/",
     "height": 187
    },
    "colab_type": "code",
    "executionInfo": {
     "elapsed": 62795,
     "status": "ok",
     "timestamp": 1591466246784,
     "user": {
      "displayName": "Amit Gupta",
      "photoUrl": "",
      "userId": "05965806125720489979"
     },
     "user_tz": 420
    },
    "id": "43BM1ruo34o-",
    "outputId": "29042c61-60e0-43c9-bb1d-5a9cd1ee8d52"
   },
   "outputs": [
    {
     "name": "stdout",
     "output_type": "stream",
     "text": [
      "loading pickle files from class = 0\n",
      "loading pickle files from class = 1\n",
      "loading pickle files from class = 2\n",
      "loading pickle files from class = 3\n",
      "loading pickle files from class = 4\n",
      "loading pickle files from class = 5\n",
      "loading pickle files from class = 6\n",
      "loading pickle files from class = 7\n",
      "loading pickle files from class = 8\n",
      "loading pickle files from class = 9\n"
     ]
    }
   ],
   "source": [
    "import pickle\n",
    "train_image = []\n",
    "image_label = []\n",
    "\n",
    "for i in range(10):\n",
    "  #path = \"/content/drive/My Drive/kaggle/cache/train_r_224_c_224_c_3_class\" + str(i) + \".dat\"\n",
    "  #path = \"/content/drive/My Drive/distdrv/cache/mask_r_224_c_224_c_3_class\" + str(i) + \".dat\"\n",
    "  path = \"/content/drive/My Drive/distdrv/cache/zoommask_r_224_c_224_c_3_class\" + str(i) + \".dat\"\n",
    "\n",
    "\n",
    "  print(f'loading pickle files from class = {i}')\n",
    "  # get orig image\n",
    "  file = open(path, 'rb')\n",
    "  images, labels = pickle.load(file)\n",
    "  train_image = train_image + images\n",
    "  #image_label = image_label + labels\n",
    "\n",
    "\n",
    "\n"
   ]
  },
  {
   "cell_type": "code",
   "execution_count": 0,
   "metadata": {
    "colab": {},
    "colab_type": "code",
    "id": "bgYRGVy-aKMQ"
   },
   "outputs": [],
   "source": []
  },
  {
   "cell_type": "code",
   "execution_count": 0,
   "metadata": {
    "colab": {},
    "colab_type": "code",
    "id": "TcPurrMWdmu5"
   },
   "outputs": [],
   "source": [
    "images = []\n",
    "labels = []\n",
    "driver_details = []"
   ]
  },
  {
   "cell_type": "code",
   "execution_count": 8,
   "metadata": {
    "colab": {
     "base_uri": "https://localhost:8080/",
     "height": 34
    },
    "colab_type": "code",
    "executionInfo": {
     "elapsed": 62764,
     "status": "ok",
     "timestamp": 1591466246788,
     "user": {
      "displayName": "Amit Gupta",
      "photoUrl": "",
      "userId": "05965806125720489979"
     },
     "user_tz": 420
    },
    "id": "rD1Np8DsHDMs",
    "outputId": "8d5fa637-ceec-4158-8107-6a96bbd15146"
   },
   "outputs": [
    {
     "name": "stdout",
     "output_type": "stream",
     "text": [
      "train image size = 22424, label size = 0\n"
     ]
    }
   ],
   "source": [
    "print(f'train image size = {len(train_image)}, label size = {len(labels)}')"
   ]
  },
  {
   "cell_type": "code",
   "execution_count": 0,
   "metadata": {
    "colab": {},
    "colab_type": "code",
    "id": "MucET-NhGpWZ"
   },
   "outputs": [],
   "source": [
    "import random\n",
    "\n",
    "random.shuffle(train_image)\n",
    "\n"
   ]
  },
  {
   "cell_type": "code",
   "execution_count": 10,
   "metadata": {
    "colab": {
     "base_uri": "https://localhost:8080/",
     "height": 34
    },
    "colab_type": "code",
    "executionInfo": {
     "elapsed": 62755,
     "status": "ok",
     "timestamp": 1591466246789,
     "user": {
      "displayName": "Amit Gupta",
      "photoUrl": "",
      "userId": "05965806125720489979"
     },
     "user_tz": 420
    },
    "id": "uUu3RZkbHTcK",
    "outputId": "1c986d68-6744-4fbc-9fc9-355e6931e482"
   },
   "outputs": [
    {
     "name": "stdout",
     "output_type": "stream",
     "text": [
      "train image size = 22424\n"
     ]
    }
   ],
   "source": [
    "print(f'train image size = {len(train_image)}')"
   ]
  },
  {
   "cell_type": "code",
   "execution_count": 0,
   "metadata": {
    "colab": {},
    "colab_type": "code",
    "id": "RaukJuGdGpZV"
   },
   "outputs": [],
   "source": [
    "## getting list of driver names\n",
    "\n",
    "D = []\n",
    "for features,labels,drivers in train_image:\n",
    "    D.append(drivers)\n",
    "\n",
    "## Deduplicating drivers\n",
    "\n",
    "deduped = []\n",
    "\n",
    "for i in D:\n",
    "    if i not in deduped:\n",
    "        deduped.append(i)\n",
    "    \n",
    "\n",
    "## selecting random drivers for the validation set\n",
    "driv_selected = []\n",
    "import random\n",
    "driv_nums = random.sample(range(len(deduped)), 4)\n",
    "for i in driv_nums:\n",
    "    driv_selected.append(deduped[i])\n"
   ]
  },
  {
   "cell_type": "code",
   "execution_count": 12,
   "metadata": {
    "colab": {
     "base_uri": "https://localhost:8080/",
     "height": 34
    },
    "colab_type": "code",
    "executionInfo": {
     "elapsed": 62745,
     "status": "ok",
     "timestamp": 1591466246790,
     "user": {
      "displayName": "Amit Gupta",
      "photoUrl": "",
      "userId": "05965806125720489979"
     },
     "user_tz": 420
    },
    "id": "0XqfkFLC5OZS",
    "outputId": "a18f1afb-13a8-4e8f-a999-28df0bfa1dbe"
   },
   "outputs": [
    {
     "data": {
      "text/plain": [
       "[0, 13, 21, 5]"
      ]
     },
     "execution_count": 12,
     "metadata": {
      "tags": []
     },
     "output_type": "execute_result"
    }
   ],
   "source": [
    "driv_nums"
   ]
  },
  {
   "cell_type": "code",
   "execution_count": 13,
   "metadata": {
    "colab": {
     "base_uri": "https://localhost:8080/",
     "height": 34
    },
    "colab_type": "code",
    "executionInfo": {
     "elapsed": 62740,
     "status": "ok",
     "timestamp": 1591466246791,
     "user": {
      "displayName": "Amit Gupta",
      "photoUrl": "",
      "userId": "05965806125720489979"
     },
     "user_tz": 420
    },
    "id": "ISh4tQe_5WEq",
    "outputId": "9420f2c7-09db-4712-99bc-41c7e2a4d5c0"
   },
   "outputs": [
    {
     "data": {
      "text/plain": [
       "26"
      ]
     },
     "execution_count": 13,
     "metadata": {
      "tags": []
     },
     "output_type": "execute_result"
    }
   ],
   "source": [
    "len(deduped)"
   ]
  },
  {
   "cell_type": "code",
   "execution_count": 0,
   "metadata": {
    "colab": {},
    "colab_type": "code",
    "id": "C3cbLpQO5cBn"
   },
   "outputs": [],
   "source": []
  },
  {
   "cell_type": "code",
   "execution_count": 14,
   "metadata": {
    "colab": {
     "base_uri": "https://localhost:8080/",
     "height": 51
    },
    "colab_type": "code",
    "executionInfo": {
     "elapsed": 62728,
     "status": "ok",
     "timestamp": 1591466246793,
     "user": {
      "displayName": "Amit Gupta",
      "photoUrl": "",
      "userId": "05965806125720489979"
     },
     "user_tz": 420
    },
    "id": "IoFH20RCGpcx",
    "outputId": "e8379ec3-3c2b-4946-9af5-8597d5af0cf2"
   },
   "outputs": [
    {
     "name": "stdout",
     "output_type": "stream",
     "text": [
      "19019 3405\n",
      "19019 3405\n"
     ]
    }
   ],
   "source": [
    "## Splitting the train and test\n",
    "\n",
    "X_train= []\n",
    "y_train = []\n",
    "X_test = []\n",
    "y_test = []\n",
    "D_train = []\n",
    "D_test = []\n",
    "\n",
    "#for features,labels,drivers,features2,labels2,drivers2 in zip(train_image, train_image2):\n",
    "for features, labels, drivers in train_image:\n",
    "\n",
    "    if drivers in driv_selected:\n",
    "        X_test.append(features)\n",
    "        y_test.append(labels)\n",
    "        #D_test.append(drivers)\n",
    "    \n",
    "    else:\n",
    "        X_train.append(features)\n",
    "        y_train.append(labels)\n",
    "        #D_train.append(drivers)\n",
    "\n",
    "\n",
    "true_test = y_test\n",
    "    \n",
    "print (len(X_train),len(X_test))\n",
    "print (len(y_train),len(y_test))\n",
    "\n",
    "\n",
    "\n",
    "\n"
   ]
  },
  {
   "cell_type": "code",
   "execution_count": 15,
   "metadata": {
    "colab": {
     "base_uri": "https://localhost:8080/",
     "height": 34
    },
    "colab_type": "code",
    "executionInfo": {
     "elapsed": 62722,
     "status": "ok",
     "timestamp": 1591466246794,
     "user": {
      "displayName": "Amit Gupta",
      "photoUrl": "",
      "userId": "05965806125720489979"
     },
     "user_tz": 420
    },
    "id": "nHbHOJQwx3gY",
    "outputId": "82967130-9f77-4d15-80db-303ba8c12234"
   },
   "outputs": [
    {
     "data": {
      "text/plain": [
       "19019"
      ]
     },
     "execution_count": 15,
     "metadata": {
      "tags": []
     },
     "output_type": "execute_result"
    }
   ],
   "source": [
    "len(X_train)"
   ]
  },
  {
   "cell_type": "code",
   "execution_count": 16,
   "metadata": {
    "colab": {
     "base_uri": "https://localhost:8080/",
     "height": 34
    },
    "colab_type": "code",
    "executionInfo": {
     "elapsed": 67860,
     "status": "ok",
     "timestamp": 1591466251939,
     "user": {
      "displayName": "Amit Gupta",
      "photoUrl": "",
      "userId": "05965806125720489979"
     },
     "user_tz": 420
    },
    "id": "R9ozvaea8Xp4",
    "outputId": "9b7b57ee-e5fd-43c5-f287-6f01f7cb5794"
   },
   "outputs": [
    {
     "name": "stdout",
     "output_type": "stream",
     "text": [
      "2\n"
     ]
    }
   ],
   "source": [
    "print(y_train[0])"
   ]
  },
  {
   "cell_type": "code",
   "execution_count": 17,
   "metadata": {
    "colab": {
     "base_uri": "https://localhost:8080/",
     "height": 85
    },
    "colab_type": "code",
    "executionInfo": {
     "elapsed": 70328,
     "status": "ok",
     "timestamp": 1591466254413,
     "user": {
      "displayName": "Amit Gupta",
      "photoUrl": "",
      "userId": "05965806125720489979"
     },
     "user_tz": 420
    },
    "id": "Jlp7ToMJGpfj",
    "outputId": "1547e0ce-f9c4-457c-a3dc-15e8b3297f3b"
   },
   "outputs": [
    {
     "name": "stdout",
     "output_type": "stream",
     "text": [
      "(19019, 224, 224, 3)\n",
      "(3405, 224, 224, 3)\n",
      "(19019, 10)\n",
      "(3405, 10)\n"
     ]
    }
   ],
   "source": [
    "## Converting images to nparray. Encoding the Y\n",
    "\n",
    "\n",
    "X_train = np.array(X_train).reshape(-1,224,224,3)\n",
    "X_test = np.array(X_test).reshape(-1,224,224,3)\n",
    "y_train = to_categorical(y_train)\n",
    "y_test = to_categorical(y_test)\n",
    "\n",
    "print (X_train.shape)\n",
    "print (X_test.shape)\n",
    "print (y_train.shape)\n",
    "print (y_test.shape)\n"
   ]
  },
  {
   "cell_type": "code",
   "execution_count": 0,
   "metadata": {
    "colab": {},
    "colab_type": "code",
    "id": "12dMipCGN5cs"
   },
   "outputs": [],
   "source": [
    "from __future__ import print_function  # for Python2\n",
    "import sys\n",
    "\n",
    "local_vars = list(locals().items())\n",
    "for var, obj in local_vars:\n",
    "  #print(var, sys.getsizeof(obj))\n",
    "  pass"
   ]
  },
  {
   "cell_type": "code",
   "execution_count": 19,
   "metadata": {
    "colab": {
     "base_uri": "https://localhost:8080/",
     "height": 1000
    },
    "colab_type": "code",
    "executionInfo": {
     "elapsed": 86224,
     "status": "ok",
     "timestamp": 1591466270320,
     "user": {
      "displayName": "Amit Gupta",
      "photoUrl": "",
      "userId": "05965806125720489979"
     },
     "user_tz": 420
    },
    "id": "8dNH_HZilPaM",
    "outputId": "b8139350-3635-452a-e655-8157bf63bfd9"
   },
   "outputs": [
    {
     "name": "stdout",
     "output_type": "stream",
     "text": [
      "Downloading data from https://github.com/fchollet/deep-learning-models/releases/download/v0.2/resnet50_weights_tf_dim_ordering_tf_kernels_notop.h5\n",
      "94658560/94653016 [==============================] - 3s 0us/step\n",
      "Model: \"resnet50\"\n",
      "__________________________________________________________________________________________________\n",
      "Layer (type)                    Output Shape         Param #     Connected to                     \n",
      "==================================================================================================\n",
      "input_1 (InputLayer)            (None, 224, 224, 3)  0                                            \n",
      "__________________________________________________________________________________________________\n",
      "conv1_pad (ZeroPadding2D)       (None, 230, 230, 3)  0           input_1[0][0]                    \n",
      "__________________________________________________________________________________________________\n",
      "conv1 (Conv2D)                  (None, 112, 112, 64) 9472        conv1_pad[0][0]                  \n",
      "__________________________________________________________________________________________________\n",
      "bn_conv1 (BatchNormalization)   (None, 112, 112, 64) 256         conv1[0][0]                      \n",
      "__________________________________________________________________________________________________\n",
      "activation_1 (Activation)       (None, 112, 112, 64) 0           bn_conv1[0][0]                   \n",
      "__________________________________________________________________________________________________\n",
      "pool1_pad (ZeroPadding2D)       (None, 114, 114, 64) 0           activation_1[0][0]               \n",
      "__________________________________________________________________________________________________\n",
      "max_pooling2d_1 (MaxPooling2D)  (None, 56, 56, 64)   0           pool1_pad[0][0]                  \n",
      "__________________________________________________________________________________________________\n",
      "res2a_branch2a (Conv2D)         (None, 56, 56, 64)   4160        max_pooling2d_1[0][0]            \n",
      "__________________________________________________________________________________________________\n",
      "bn2a_branch2a (BatchNormalizati (None, 56, 56, 64)   256         res2a_branch2a[0][0]             \n",
      "__________________________________________________________________________________________________\n",
      "activation_2 (Activation)       (None, 56, 56, 64)   0           bn2a_branch2a[0][0]              \n",
      "__________________________________________________________________________________________________\n",
      "res2a_branch2b (Conv2D)         (None, 56, 56, 64)   36928       activation_2[0][0]               \n",
      "__________________________________________________________________________________________________\n",
      "bn2a_branch2b (BatchNormalizati (None, 56, 56, 64)   256         res2a_branch2b[0][0]             \n",
      "__________________________________________________________________________________________________\n",
      "activation_3 (Activation)       (None, 56, 56, 64)   0           bn2a_branch2b[0][0]              \n",
      "__________________________________________________________________________________________________\n",
      "res2a_branch2c (Conv2D)         (None, 56, 56, 256)  16640       activation_3[0][0]               \n",
      "__________________________________________________________________________________________________\n",
      "res2a_branch1 (Conv2D)          (None, 56, 56, 256)  16640       max_pooling2d_1[0][0]            \n",
      "__________________________________________________________________________________________________\n",
      "bn2a_branch2c (BatchNormalizati (None, 56, 56, 256)  1024        res2a_branch2c[0][0]             \n",
      "__________________________________________________________________________________________________\n",
      "bn2a_branch1 (BatchNormalizatio (None, 56, 56, 256)  1024        res2a_branch1[0][0]              \n",
      "__________________________________________________________________________________________________\n",
      "add_1 (Add)                     (None, 56, 56, 256)  0           bn2a_branch2c[0][0]              \n",
      "                                                                 bn2a_branch1[0][0]               \n",
      "__________________________________________________________________________________________________\n",
      "activation_4 (Activation)       (None, 56, 56, 256)  0           add_1[0][0]                      \n",
      "__________________________________________________________________________________________________\n",
      "res2b_branch2a (Conv2D)         (None, 56, 56, 64)   16448       activation_4[0][0]               \n",
      "__________________________________________________________________________________________________\n",
      "bn2b_branch2a (BatchNormalizati (None, 56, 56, 64)   256         res2b_branch2a[0][0]             \n",
      "__________________________________________________________________________________________________\n",
      "activation_5 (Activation)       (None, 56, 56, 64)   0           bn2b_branch2a[0][0]              \n",
      "__________________________________________________________________________________________________\n",
      "res2b_branch2b (Conv2D)         (None, 56, 56, 64)   36928       activation_5[0][0]               \n",
      "__________________________________________________________________________________________________\n",
      "bn2b_branch2b (BatchNormalizati (None, 56, 56, 64)   256         res2b_branch2b[0][0]             \n",
      "__________________________________________________________________________________________________\n",
      "activation_6 (Activation)       (None, 56, 56, 64)   0           bn2b_branch2b[0][0]              \n",
      "__________________________________________________________________________________________________\n",
      "res2b_branch2c (Conv2D)         (None, 56, 56, 256)  16640       activation_6[0][0]               \n",
      "__________________________________________________________________________________________________\n",
      "bn2b_branch2c (BatchNormalizati (None, 56, 56, 256)  1024        res2b_branch2c[0][0]             \n",
      "__________________________________________________________________________________________________\n",
      "add_2 (Add)                     (None, 56, 56, 256)  0           bn2b_branch2c[0][0]              \n",
      "                                                                 activation_4[0][0]               \n",
      "__________________________________________________________________________________________________\n",
      "activation_7 (Activation)       (None, 56, 56, 256)  0           add_2[0][0]                      \n",
      "__________________________________________________________________________________________________\n",
      "res2c_branch2a (Conv2D)         (None, 56, 56, 64)   16448       activation_7[0][0]               \n",
      "__________________________________________________________________________________________________\n",
      "bn2c_branch2a (BatchNormalizati (None, 56, 56, 64)   256         res2c_branch2a[0][0]             \n",
      "__________________________________________________________________________________________________\n",
      "activation_8 (Activation)       (None, 56, 56, 64)   0           bn2c_branch2a[0][0]              \n",
      "__________________________________________________________________________________________________\n",
      "res2c_branch2b (Conv2D)         (None, 56, 56, 64)   36928       activation_8[0][0]               \n",
      "__________________________________________________________________________________________________\n",
      "bn2c_branch2b (BatchNormalizati (None, 56, 56, 64)   256         res2c_branch2b[0][0]             \n",
      "__________________________________________________________________________________________________\n",
      "activation_9 (Activation)       (None, 56, 56, 64)   0           bn2c_branch2b[0][0]              \n",
      "__________________________________________________________________________________________________\n",
      "res2c_branch2c (Conv2D)         (None, 56, 56, 256)  16640       activation_9[0][0]               \n",
      "__________________________________________________________________________________________________\n",
      "bn2c_branch2c (BatchNormalizati (None, 56, 56, 256)  1024        res2c_branch2c[0][0]             \n",
      "__________________________________________________________________________________________________\n",
      "add_3 (Add)                     (None, 56, 56, 256)  0           bn2c_branch2c[0][0]              \n",
      "                                                                 activation_7[0][0]               \n",
      "__________________________________________________________________________________________________\n",
      "activation_10 (Activation)      (None, 56, 56, 256)  0           add_3[0][0]                      \n",
      "__________________________________________________________________________________________________\n",
      "res3a_branch2a (Conv2D)         (None, 28, 28, 128)  32896       activation_10[0][0]              \n",
      "__________________________________________________________________________________________________\n",
      "bn3a_branch2a (BatchNormalizati (None, 28, 28, 128)  512         res3a_branch2a[0][0]             \n",
      "__________________________________________________________________________________________________\n",
      "activation_11 (Activation)      (None, 28, 28, 128)  0           bn3a_branch2a[0][0]              \n",
      "__________________________________________________________________________________________________\n",
      "res3a_branch2b (Conv2D)         (None, 28, 28, 128)  147584      activation_11[0][0]              \n",
      "__________________________________________________________________________________________________\n",
      "bn3a_branch2b (BatchNormalizati (None, 28, 28, 128)  512         res3a_branch2b[0][0]             \n",
      "__________________________________________________________________________________________________\n",
      "activation_12 (Activation)      (None, 28, 28, 128)  0           bn3a_branch2b[0][0]              \n",
      "__________________________________________________________________________________________________\n",
      "res3a_branch2c (Conv2D)         (None, 28, 28, 512)  66048       activation_12[0][0]              \n",
      "__________________________________________________________________________________________________\n",
      "res3a_branch1 (Conv2D)          (None, 28, 28, 512)  131584      activation_10[0][0]              \n",
      "__________________________________________________________________________________________________\n",
      "bn3a_branch2c (BatchNormalizati (None, 28, 28, 512)  2048        res3a_branch2c[0][0]             \n",
      "__________________________________________________________________________________________________\n",
      "bn3a_branch1 (BatchNormalizatio (None, 28, 28, 512)  2048        res3a_branch1[0][0]              \n",
      "__________________________________________________________________________________________________\n",
      "add_4 (Add)                     (None, 28, 28, 512)  0           bn3a_branch2c[0][0]              \n",
      "                                                                 bn3a_branch1[0][0]               \n",
      "__________________________________________________________________________________________________\n",
      "activation_13 (Activation)      (None, 28, 28, 512)  0           add_4[0][0]                      \n",
      "__________________________________________________________________________________________________\n",
      "res3b_branch2a (Conv2D)         (None, 28, 28, 128)  65664       activation_13[0][0]              \n",
      "__________________________________________________________________________________________________\n",
      "bn3b_branch2a (BatchNormalizati (None, 28, 28, 128)  512         res3b_branch2a[0][0]             \n",
      "__________________________________________________________________________________________________\n",
      "activation_14 (Activation)      (None, 28, 28, 128)  0           bn3b_branch2a[0][0]              \n",
      "__________________________________________________________________________________________________\n",
      "res3b_branch2b (Conv2D)         (None, 28, 28, 128)  147584      activation_14[0][0]              \n",
      "__________________________________________________________________________________________________\n",
      "bn3b_branch2b (BatchNormalizati (None, 28, 28, 128)  512         res3b_branch2b[0][0]             \n",
      "__________________________________________________________________________________________________\n",
      "activation_15 (Activation)      (None, 28, 28, 128)  0           bn3b_branch2b[0][0]              \n",
      "__________________________________________________________________________________________________\n",
      "res3b_branch2c (Conv2D)         (None, 28, 28, 512)  66048       activation_15[0][0]              \n",
      "__________________________________________________________________________________________________\n",
      "bn3b_branch2c (BatchNormalizati (None, 28, 28, 512)  2048        res3b_branch2c[0][0]             \n",
      "__________________________________________________________________________________________________\n",
      "add_5 (Add)                     (None, 28, 28, 512)  0           bn3b_branch2c[0][0]              \n",
      "                                                                 activation_13[0][0]              \n",
      "__________________________________________________________________________________________________\n",
      "activation_16 (Activation)      (None, 28, 28, 512)  0           add_5[0][0]                      \n",
      "__________________________________________________________________________________________________\n",
      "res3c_branch2a (Conv2D)         (None, 28, 28, 128)  65664       activation_16[0][0]              \n",
      "__________________________________________________________________________________________________\n",
      "bn3c_branch2a (BatchNormalizati (None, 28, 28, 128)  512         res3c_branch2a[0][0]             \n",
      "__________________________________________________________________________________________________\n",
      "activation_17 (Activation)      (None, 28, 28, 128)  0           bn3c_branch2a[0][0]              \n",
      "__________________________________________________________________________________________________\n",
      "res3c_branch2b (Conv2D)         (None, 28, 28, 128)  147584      activation_17[0][0]              \n",
      "__________________________________________________________________________________________________\n",
      "bn3c_branch2b (BatchNormalizati (None, 28, 28, 128)  512         res3c_branch2b[0][0]             \n",
      "__________________________________________________________________________________________________\n",
      "activation_18 (Activation)      (None, 28, 28, 128)  0           bn3c_branch2b[0][0]              \n",
      "__________________________________________________________________________________________________\n",
      "res3c_branch2c (Conv2D)         (None, 28, 28, 512)  66048       activation_18[0][0]              \n",
      "__________________________________________________________________________________________________\n",
      "bn3c_branch2c (BatchNormalizati (None, 28, 28, 512)  2048        res3c_branch2c[0][0]             \n",
      "__________________________________________________________________________________________________\n",
      "add_6 (Add)                     (None, 28, 28, 512)  0           bn3c_branch2c[0][0]              \n",
      "                                                                 activation_16[0][0]              \n",
      "__________________________________________________________________________________________________\n",
      "activation_19 (Activation)      (None, 28, 28, 512)  0           add_6[0][0]                      \n",
      "__________________________________________________________________________________________________\n",
      "res3d_branch2a (Conv2D)         (None, 28, 28, 128)  65664       activation_19[0][0]              \n",
      "__________________________________________________________________________________________________\n",
      "bn3d_branch2a (BatchNormalizati (None, 28, 28, 128)  512         res3d_branch2a[0][0]             \n",
      "__________________________________________________________________________________________________\n",
      "activation_20 (Activation)      (None, 28, 28, 128)  0           bn3d_branch2a[0][0]              \n",
      "__________________________________________________________________________________________________\n",
      "res3d_branch2b (Conv2D)         (None, 28, 28, 128)  147584      activation_20[0][0]              \n",
      "__________________________________________________________________________________________________\n",
      "bn3d_branch2b (BatchNormalizati (None, 28, 28, 128)  512         res3d_branch2b[0][0]             \n",
      "__________________________________________________________________________________________________\n",
      "activation_21 (Activation)      (None, 28, 28, 128)  0           bn3d_branch2b[0][0]              \n",
      "__________________________________________________________________________________________________\n",
      "res3d_branch2c (Conv2D)         (None, 28, 28, 512)  66048       activation_21[0][0]              \n",
      "__________________________________________________________________________________________________\n",
      "bn3d_branch2c (BatchNormalizati (None, 28, 28, 512)  2048        res3d_branch2c[0][0]             \n",
      "__________________________________________________________________________________________________\n",
      "add_7 (Add)                     (None, 28, 28, 512)  0           bn3d_branch2c[0][0]              \n",
      "                                                                 activation_19[0][0]              \n",
      "__________________________________________________________________________________________________\n",
      "activation_22 (Activation)      (None, 28, 28, 512)  0           add_7[0][0]                      \n",
      "__________________________________________________________________________________________________\n",
      "res4a_branch2a (Conv2D)         (None, 14, 14, 256)  131328      activation_22[0][0]              \n",
      "__________________________________________________________________________________________________\n",
      "bn4a_branch2a (BatchNormalizati (None, 14, 14, 256)  1024        res4a_branch2a[0][0]             \n",
      "__________________________________________________________________________________________________\n",
      "activation_23 (Activation)      (None, 14, 14, 256)  0           bn4a_branch2a[0][0]              \n",
      "__________________________________________________________________________________________________\n",
      "res4a_branch2b (Conv2D)         (None, 14, 14, 256)  590080      activation_23[0][0]              \n",
      "__________________________________________________________________________________________________\n",
      "bn4a_branch2b (BatchNormalizati (None, 14, 14, 256)  1024        res4a_branch2b[0][0]             \n",
      "__________________________________________________________________________________________________\n",
      "activation_24 (Activation)      (None, 14, 14, 256)  0           bn4a_branch2b[0][0]              \n",
      "__________________________________________________________________________________________________\n",
      "res4a_branch2c (Conv2D)         (None, 14, 14, 1024) 263168      activation_24[0][0]              \n",
      "__________________________________________________________________________________________________\n",
      "res4a_branch1 (Conv2D)          (None, 14, 14, 1024) 525312      activation_22[0][0]              \n",
      "__________________________________________________________________________________________________\n",
      "bn4a_branch2c (BatchNormalizati (None, 14, 14, 1024) 4096        res4a_branch2c[0][0]             \n",
      "__________________________________________________________________________________________________\n",
      "bn4a_branch1 (BatchNormalizatio (None, 14, 14, 1024) 4096        res4a_branch1[0][0]              \n",
      "__________________________________________________________________________________________________\n",
      "add_8 (Add)                     (None, 14, 14, 1024) 0           bn4a_branch2c[0][0]              \n",
      "                                                                 bn4a_branch1[0][0]               \n",
      "__________________________________________________________________________________________________\n",
      "activation_25 (Activation)      (None, 14, 14, 1024) 0           add_8[0][0]                      \n",
      "__________________________________________________________________________________________________\n",
      "res4b_branch2a (Conv2D)         (None, 14, 14, 256)  262400      activation_25[0][0]              \n",
      "__________________________________________________________________________________________________\n",
      "bn4b_branch2a (BatchNormalizati (None, 14, 14, 256)  1024        res4b_branch2a[0][0]             \n",
      "__________________________________________________________________________________________________\n",
      "activation_26 (Activation)      (None, 14, 14, 256)  0           bn4b_branch2a[0][0]              \n",
      "__________________________________________________________________________________________________\n",
      "res4b_branch2b (Conv2D)         (None, 14, 14, 256)  590080      activation_26[0][0]              \n",
      "__________________________________________________________________________________________________\n",
      "bn4b_branch2b (BatchNormalizati (None, 14, 14, 256)  1024        res4b_branch2b[0][0]             \n",
      "__________________________________________________________________________________________________\n",
      "activation_27 (Activation)      (None, 14, 14, 256)  0           bn4b_branch2b[0][0]              \n",
      "__________________________________________________________________________________________________\n",
      "res4b_branch2c (Conv2D)         (None, 14, 14, 1024) 263168      activation_27[0][0]              \n",
      "__________________________________________________________________________________________________\n",
      "bn4b_branch2c (BatchNormalizati (None, 14, 14, 1024) 4096        res4b_branch2c[0][0]             \n",
      "__________________________________________________________________________________________________\n",
      "add_9 (Add)                     (None, 14, 14, 1024) 0           bn4b_branch2c[0][0]              \n",
      "                                                                 activation_25[0][0]              \n",
      "__________________________________________________________________________________________________\n",
      "activation_28 (Activation)      (None, 14, 14, 1024) 0           add_9[0][0]                      \n",
      "__________________________________________________________________________________________________\n",
      "res4c_branch2a (Conv2D)         (None, 14, 14, 256)  262400      activation_28[0][0]              \n",
      "__________________________________________________________________________________________________\n",
      "bn4c_branch2a (BatchNormalizati (None, 14, 14, 256)  1024        res4c_branch2a[0][0]             \n",
      "__________________________________________________________________________________________________\n",
      "activation_29 (Activation)      (None, 14, 14, 256)  0           bn4c_branch2a[0][0]              \n",
      "__________________________________________________________________________________________________\n",
      "res4c_branch2b (Conv2D)         (None, 14, 14, 256)  590080      activation_29[0][0]              \n",
      "__________________________________________________________________________________________________\n",
      "bn4c_branch2b (BatchNormalizati (None, 14, 14, 256)  1024        res4c_branch2b[0][0]             \n",
      "__________________________________________________________________________________________________\n",
      "activation_30 (Activation)      (None, 14, 14, 256)  0           bn4c_branch2b[0][0]              \n",
      "__________________________________________________________________________________________________\n",
      "res4c_branch2c (Conv2D)         (None, 14, 14, 1024) 263168      activation_30[0][0]              \n",
      "__________________________________________________________________________________________________\n",
      "bn4c_branch2c (BatchNormalizati (None, 14, 14, 1024) 4096        res4c_branch2c[0][0]             \n",
      "__________________________________________________________________________________________________\n",
      "add_10 (Add)                    (None, 14, 14, 1024) 0           bn4c_branch2c[0][0]              \n",
      "                                                                 activation_28[0][0]              \n",
      "__________________________________________________________________________________________________\n",
      "activation_31 (Activation)      (None, 14, 14, 1024) 0           add_10[0][0]                     \n",
      "__________________________________________________________________________________________________\n",
      "res4d_branch2a (Conv2D)         (None, 14, 14, 256)  262400      activation_31[0][0]              \n",
      "__________________________________________________________________________________________________\n",
      "bn4d_branch2a (BatchNormalizati (None, 14, 14, 256)  1024        res4d_branch2a[0][0]             \n",
      "__________________________________________________________________________________________________\n",
      "activation_32 (Activation)      (None, 14, 14, 256)  0           bn4d_branch2a[0][0]              \n",
      "__________________________________________________________________________________________________\n",
      "res4d_branch2b (Conv2D)         (None, 14, 14, 256)  590080      activation_32[0][0]              \n",
      "__________________________________________________________________________________________________\n",
      "bn4d_branch2b (BatchNormalizati (None, 14, 14, 256)  1024        res4d_branch2b[0][0]             \n",
      "__________________________________________________________________________________________________\n",
      "activation_33 (Activation)      (None, 14, 14, 256)  0           bn4d_branch2b[0][0]              \n",
      "__________________________________________________________________________________________________\n",
      "res4d_branch2c (Conv2D)         (None, 14, 14, 1024) 263168      activation_33[0][0]              \n",
      "__________________________________________________________________________________________________\n",
      "bn4d_branch2c (BatchNormalizati (None, 14, 14, 1024) 4096        res4d_branch2c[0][0]             \n",
      "__________________________________________________________________________________________________\n",
      "add_11 (Add)                    (None, 14, 14, 1024) 0           bn4d_branch2c[0][0]              \n",
      "                                                                 activation_31[0][0]              \n",
      "__________________________________________________________________________________________________\n",
      "activation_34 (Activation)      (None, 14, 14, 1024) 0           add_11[0][0]                     \n",
      "__________________________________________________________________________________________________\n",
      "res4e_branch2a (Conv2D)         (None, 14, 14, 256)  262400      activation_34[0][0]              \n",
      "__________________________________________________________________________________________________\n",
      "bn4e_branch2a (BatchNormalizati (None, 14, 14, 256)  1024        res4e_branch2a[0][0]             \n",
      "__________________________________________________________________________________________________\n",
      "activation_35 (Activation)      (None, 14, 14, 256)  0           bn4e_branch2a[0][0]              \n",
      "__________________________________________________________________________________________________\n",
      "res4e_branch2b (Conv2D)         (None, 14, 14, 256)  590080      activation_35[0][0]              \n",
      "__________________________________________________________________________________________________\n",
      "bn4e_branch2b (BatchNormalizati (None, 14, 14, 256)  1024        res4e_branch2b[0][0]             \n",
      "__________________________________________________________________________________________________\n",
      "activation_36 (Activation)      (None, 14, 14, 256)  0           bn4e_branch2b[0][0]              \n",
      "__________________________________________________________________________________________________\n",
      "res4e_branch2c (Conv2D)         (None, 14, 14, 1024) 263168      activation_36[0][0]              \n",
      "__________________________________________________________________________________________________\n",
      "bn4e_branch2c (BatchNormalizati (None, 14, 14, 1024) 4096        res4e_branch2c[0][0]             \n",
      "__________________________________________________________________________________________________\n",
      "add_12 (Add)                    (None, 14, 14, 1024) 0           bn4e_branch2c[0][0]              \n",
      "                                                                 activation_34[0][0]              \n",
      "__________________________________________________________________________________________________\n",
      "activation_37 (Activation)      (None, 14, 14, 1024) 0           add_12[0][0]                     \n",
      "__________________________________________________________________________________________________\n",
      "res4f_branch2a (Conv2D)         (None, 14, 14, 256)  262400      activation_37[0][0]              \n",
      "__________________________________________________________________________________________________\n",
      "bn4f_branch2a (BatchNormalizati (None, 14, 14, 256)  1024        res4f_branch2a[0][0]             \n",
      "__________________________________________________________________________________________________\n",
      "activation_38 (Activation)      (None, 14, 14, 256)  0           bn4f_branch2a[0][0]              \n",
      "__________________________________________________________________________________________________\n",
      "res4f_branch2b (Conv2D)         (None, 14, 14, 256)  590080      activation_38[0][0]              \n",
      "__________________________________________________________________________________________________\n",
      "bn4f_branch2b (BatchNormalizati (None, 14, 14, 256)  1024        res4f_branch2b[0][0]             \n",
      "__________________________________________________________________________________________________\n",
      "activation_39 (Activation)      (None, 14, 14, 256)  0           bn4f_branch2b[0][0]              \n",
      "__________________________________________________________________________________________________\n",
      "res4f_branch2c (Conv2D)         (None, 14, 14, 1024) 263168      activation_39[0][0]              \n",
      "__________________________________________________________________________________________________\n",
      "bn4f_branch2c (BatchNormalizati (None, 14, 14, 1024) 4096        res4f_branch2c[0][0]             \n",
      "__________________________________________________________________________________________________\n",
      "add_13 (Add)                    (None, 14, 14, 1024) 0           bn4f_branch2c[0][0]              \n",
      "                                                                 activation_37[0][0]              \n",
      "__________________________________________________________________________________________________\n",
      "activation_40 (Activation)      (None, 14, 14, 1024) 0           add_13[0][0]                     \n",
      "__________________________________________________________________________________________________\n",
      "res5a_branch2a (Conv2D)         (None, 7, 7, 512)    524800      activation_40[0][0]              \n",
      "__________________________________________________________________________________________________\n",
      "bn5a_branch2a (BatchNormalizati (None, 7, 7, 512)    2048        res5a_branch2a[0][0]             \n",
      "__________________________________________________________________________________________________\n",
      "activation_41 (Activation)      (None, 7, 7, 512)    0           bn5a_branch2a[0][0]              \n",
      "__________________________________________________________________________________________________\n",
      "res5a_branch2b (Conv2D)         (None, 7, 7, 512)    2359808     activation_41[0][0]              \n",
      "__________________________________________________________________________________________________\n",
      "bn5a_branch2b (BatchNormalizati (None, 7, 7, 512)    2048        res5a_branch2b[0][0]             \n",
      "__________________________________________________________________________________________________\n",
      "activation_42 (Activation)      (None, 7, 7, 512)    0           bn5a_branch2b[0][0]              \n",
      "__________________________________________________________________________________________________\n",
      "res5a_branch2c (Conv2D)         (None, 7, 7, 2048)   1050624     activation_42[0][0]              \n",
      "__________________________________________________________________________________________________\n",
      "res5a_branch1 (Conv2D)          (None, 7, 7, 2048)   2099200     activation_40[0][0]              \n",
      "__________________________________________________________________________________________________\n",
      "bn5a_branch2c (BatchNormalizati (None, 7, 7, 2048)   8192        res5a_branch2c[0][0]             \n",
      "__________________________________________________________________________________________________\n",
      "bn5a_branch1 (BatchNormalizatio (None, 7, 7, 2048)   8192        res5a_branch1[0][0]              \n",
      "__________________________________________________________________________________________________\n",
      "add_14 (Add)                    (None, 7, 7, 2048)   0           bn5a_branch2c[0][0]              \n",
      "                                                                 bn5a_branch1[0][0]               \n",
      "__________________________________________________________________________________________________\n",
      "activation_43 (Activation)      (None, 7, 7, 2048)   0           add_14[0][0]                     \n",
      "__________________________________________________________________________________________________\n",
      "res5b_branch2a (Conv2D)         (None, 7, 7, 512)    1049088     activation_43[0][0]              \n",
      "__________________________________________________________________________________________________\n",
      "bn5b_branch2a (BatchNormalizati (None, 7, 7, 512)    2048        res5b_branch2a[0][0]             \n",
      "__________________________________________________________________________________________________\n",
      "activation_44 (Activation)      (None, 7, 7, 512)    0           bn5b_branch2a[0][0]              \n",
      "__________________________________________________________________________________________________\n",
      "res5b_branch2b (Conv2D)         (None, 7, 7, 512)    2359808     activation_44[0][0]              \n",
      "__________________________________________________________________________________________________\n",
      "bn5b_branch2b (BatchNormalizati (None, 7, 7, 512)    2048        res5b_branch2b[0][0]             \n",
      "__________________________________________________________________________________________________\n",
      "activation_45 (Activation)      (None, 7, 7, 512)    0           bn5b_branch2b[0][0]              \n",
      "__________________________________________________________________________________________________\n",
      "res5b_branch2c (Conv2D)         (None, 7, 7, 2048)   1050624     activation_45[0][0]              \n",
      "__________________________________________________________________________________________________\n",
      "bn5b_branch2c (BatchNormalizati (None, 7, 7, 2048)   8192        res5b_branch2c[0][0]             \n",
      "__________________________________________________________________________________________________\n",
      "add_15 (Add)                    (None, 7, 7, 2048)   0           bn5b_branch2c[0][0]              \n",
      "                                                                 activation_43[0][0]              \n",
      "__________________________________________________________________________________________________\n",
      "activation_46 (Activation)      (None, 7, 7, 2048)   0           add_15[0][0]                     \n",
      "__________________________________________________________________________________________________\n",
      "res5c_branch2a (Conv2D)         (None, 7, 7, 512)    1049088     activation_46[0][0]              \n",
      "__________________________________________________________________________________________________\n",
      "bn5c_branch2a (BatchNormalizati (None, 7, 7, 512)    2048        res5c_branch2a[0][0]             \n",
      "__________________________________________________________________________________________________\n",
      "activation_47 (Activation)      (None, 7, 7, 512)    0           bn5c_branch2a[0][0]              \n",
      "__________________________________________________________________________________________________\n",
      "res5c_branch2b (Conv2D)         (None, 7, 7, 512)    2359808     activation_47[0][0]              \n",
      "__________________________________________________________________________________________________\n",
      "bn5c_branch2b (BatchNormalizati (None, 7, 7, 512)    2048        res5c_branch2b[0][0]             \n",
      "__________________________________________________________________________________________________\n",
      "activation_48 (Activation)      (None, 7, 7, 512)    0           bn5c_branch2b[0][0]              \n",
      "__________________________________________________________________________________________________\n",
      "res5c_branch2c (Conv2D)         (None, 7, 7, 2048)   1050624     activation_48[0][0]              \n",
      "__________________________________________________________________________________________________\n",
      "bn5c_branch2c (BatchNormalizati (None, 7, 7, 2048)   8192        res5c_branch2c[0][0]             \n",
      "__________________________________________________________________________________________________\n",
      "add_16 (Add)                    (None, 7, 7, 2048)   0           bn5c_branch2c[0][0]              \n",
      "                                                                 activation_46[0][0]              \n",
      "__________________________________________________________________________________________________\n",
      "activation_49 (Activation)      (None, 7, 7, 2048)   0           add_16[0][0]                     \n",
      "==================================================================================================\n",
      "Total params: 23,587,712\n",
      "Trainable params: 23,534,592\n",
      "Non-trainable params: 53,120\n",
      "__________________________________________________________________________________________________\n"
     ]
    }
   ],
   "source": [
    "## Defining the input\n",
    "## Defining the input\n",
    "\n",
    "from keras.layers import Input\n",
    "resnet50_input = Input(shape = (224, 224, 3), name = 'Image_input')\n",
    "\n",
    "## The RESNET model\n",
    "\n",
    "from keras.applications.resnet50 import preprocess_input, decode_predictions\n",
    "from keras.applications.resnet50 import ResNet50\n",
    "\n",
    "\n",
    "#Get the RESNET weights and layers\n",
    "\n",
    "model_resnet50_conv = ResNet50(weights= 'imagenet', include_top=False, input_shape= (224,224,3))\n",
    "model_resnet50_conv.summary()\n",
    "\n"
   ]
  },
  {
   "cell_type": "code",
   "execution_count": 0,
   "metadata": {
    "colab": {},
    "colab_type": "code",
    "id": "iY7CAPT7GpiC"
   },
   "outputs": [],
   "source": []
  },
  {
   "cell_type": "code",
   "execution_count": 0,
   "metadata": {
    "colab": {},
    "colab_type": "code",
    "id": "_lBw1i1Xk34T"
   },
   "outputs": [],
   "source": []
  },
  {
   "cell_type": "code",
   "execution_count": 20,
   "metadata": {
    "colab": {
     "base_uri": "https://localhost:8080/",
     "height": 493
    },
    "colab_type": "code",
    "executionInfo": {
     "elapsed": 89010,
     "status": "ok",
     "timestamp": 1591466273122,
     "user": {
      "displayName": "Amit Gupta",
      "photoUrl": "",
      "userId": "05965806125720489979"
     },
     "user_tz": 420
    },
    "id": "rJf-DE7DdURw",
    "outputId": "33e3aca1-4430-4eae-eb43-25e785e493ce"
   },
   "outputs": [
    {
     "name": "stdout",
     "output_type": "stream",
     "text": [
      "Model: \"model_1\"\n",
      "_________________________________________________________________\n",
      "Layer (type)                 Output Shape              Param #   \n",
      "=================================================================\n",
      "Image_input (InputLayer)     (None, 224, 224, 3)       0         \n",
      "_________________________________________________________________\n",
      "resnet50 (Model)             (None, 7, 7, 2048)        23587712  \n",
      "_________________________________________________________________\n",
      "global_average_pooling2d_1 ( (None, 2048)              0         \n",
      "_________________________________________________________________\n",
      "dense_1 (Dense)              (None, 1024)              2098176   \n",
      "_________________________________________________________________\n",
      "dropout_1 (Dropout)          (None, 1024)              0         \n",
      "_________________________________________________________________\n",
      "dense_2 (Dense)              (None, 1024)              1049600   \n",
      "_________________________________________________________________\n",
      "batch_normalization_1 (Batch (None, 1024)              4096      \n",
      "_________________________________________________________________\n",
      "dropout_2 (Dropout)          (None, 1024)              0         \n",
      "_________________________________________________________________\n",
      "dense_3 (Dense)              (None, 512)               524800    \n",
      "_________________________________________________________________\n",
      "predictions (Dense)          (None, 10)                5130      \n",
      "=================================================================\n",
      "Total params: 27,269,514\n",
      "Trainable params: 27,214,346\n",
      "Non-trainable params: 55,168\n",
      "_________________________________________________________________\n"
     ]
    }
   ],
   "source": [
    "#Use the generated model \n",
    "from keras.models import Model\n",
    "\n",
    "\n",
    "output_resnet50_conv = model_resnet50_conv(resnet50_input)\n",
    "\n",
    "#Add the fully-connected layers \n",
    "\n",
    "x=GlobalAveragePooling2D()(output_resnet50_conv)\n",
    "x=Dense(1024,activation='relu')(x) #we add dense layers so that the model can learn more complex functions and classify for better results.\n",
    "x = Dropout(0.1)(x) # **reduce dropout \n",
    "x=Dense(1024,activation='relu')(x) #dense layer 2\n",
    "x = BatchNormalization()(x)\n",
    "x = Dropout(0.35)(x)\n",
    "x=Dense(512,activation='relu')(x) #dense layer 3\n",
    "x = Dense(10, activation='softmax', name='predictions')(x)\n",
    "\n",
    "\n",
    "resnet50_pretrained = Model(input = resnet50_input, output = x)\n",
    "# for layer in resnet50_pretrained.layers[:2]:\n",
    "#     layer.trainable=False\n",
    "# for layer in resnet50_pretrained.layers[2:]:\n",
    "#     layer.trainable=True\n",
    "\n",
    "\n",
    "resnet50_pretrained.summary()\n",
    "\n",
    "# Compile CNN model\n",
    "adam = keras.optimizers.Adam(lr=0.001, beta_1=0.9, beta_2=0.999, epsilon=1e-8, decay=0.0)\n",
    "sgd = optimizers.SGD(lr = 0.001)\n",
    "resnet50_pretrained.compile(loss='categorical_crossentropy',optimizer = sgd,metrics=['accuracy'])\n"
   ]
  },
  {
   "cell_type": "code",
   "execution_count": 21,
   "metadata": {
    "colab": {
     "base_uri": "https://localhost:8080/",
     "height": 1000
    },
    "colab_type": "code",
    "executionInfo": {
     "elapsed": 8715374,
     "status": "ok",
     "timestamp": 1591474899496,
     "user": {
      "displayName": "Amit Gupta",
      "photoUrl": "",
      "userId": "05965806125720489979"
     },
     "user_tz": 420
    },
    "id": "KHlcK4zQdXgo",
    "outputId": "b4d3a147-04a7-47dd-97e5-d93c61e66332"
   },
   "outputs": [
    {
     "name": "stdout",
     "output_type": "stream",
     "text": [
      "Epoch 1/40\n",
      "298/297 [==============================] - 241s 809ms/step - loss: 2.5895 - accuracy: 0.1501 - val_loss: 1.9393 - val_accuracy: 0.3254\n",
      "\n",
      "Epoch 00001: val_loss improved from inf to 1.93935, saving model to /content/drive/My Drive/kaggle/resnetmaskModel_aug.hdf5\n",
      "Epoch 2/40\n",
      "298/297 [==============================] - 223s 748ms/step - loss: 2.0278 - accuracy: 0.3085 - val_loss: 1.2694 - val_accuracy: 0.5568\n",
      "\n",
      "Epoch 00002: val_loss improved from 1.93935 to 1.26939, saving model to /content/drive/My Drive/kaggle/resnetmaskModel_aug.hdf5\n",
      "Epoch 3/40\n",
      "298/297 [==============================] - 227s 761ms/step - loss: 1.5450 - accuracy: 0.4738 - val_loss: 0.7806 - val_accuracy: 0.7374\n",
      "\n",
      "Epoch 00003: val_loss improved from 1.26939 to 0.78056, saving model to /content/drive/My Drive/kaggle/resnetmaskModel_aug.hdf5\n",
      "Epoch 4/40\n",
      "298/297 [==============================] - 229s 770ms/step - loss: 1.2424 - accuracy: 0.5762 - val_loss: 0.6636 - val_accuracy: 0.7900\n",
      "\n",
      "Epoch 00004: val_loss improved from 0.78056 to 0.66362, saving model to /content/drive/My Drive/kaggle/resnetmaskModel_aug.hdf5\n",
      "Epoch 5/40\n",
      "298/297 [==============================] - 216s 726ms/step - loss: 1.0606 - accuracy: 0.6398 - val_loss: 0.5633 - val_accuracy: 0.8238\n",
      "\n",
      "Epoch 00005: val_loss improved from 0.66362 to 0.56326, saving model to /content/drive/My Drive/kaggle/resnetmaskModel_aug.hdf5\n",
      "Epoch 6/40\n",
      "298/297 [==============================] - 214s 718ms/step - loss: 0.9188 - accuracy: 0.6864 - val_loss: 0.4913 - val_accuracy: 0.8502\n",
      "\n",
      "Epoch 00006: val_loss improved from 0.56326 to 0.49130, saving model to /content/drive/My Drive/kaggle/resnetmaskModel_aug.hdf5\n",
      "Epoch 7/40\n",
      "298/297 [==============================] - 215s 721ms/step - loss: 0.8403 - accuracy: 0.7152 - val_loss: 0.4794 - val_accuracy: 0.8552\n",
      "\n",
      "Epoch 00007: val_loss improved from 0.49130 to 0.47941, saving model to /content/drive/My Drive/kaggle/resnetmaskModel_aug.hdf5\n",
      "Epoch 8/40\n",
      "298/297 [==============================] - 213s 716ms/step - loss: 0.7887 - accuracy: 0.7308 - val_loss: 0.4425 - val_accuracy: 0.8728\n",
      "\n",
      "Epoch 00008: val_loss improved from 0.47941 to 0.44254, saving model to /content/drive/My Drive/kaggle/resnetmaskModel_aug.hdf5\n",
      "Epoch 9/40\n",
      "298/297 [==============================] - 212s 713ms/step - loss: 0.7248 - accuracy: 0.7502 - val_loss: 0.4303 - val_accuracy: 0.8799\n",
      "\n",
      "Epoch 00009: val_loss improved from 0.44254 to 0.43032, saving model to /content/drive/My Drive/kaggle/resnetmaskModel_aug.hdf5\n",
      "Epoch 10/40\n",
      "298/297 [==============================] - 214s 719ms/step - loss: 0.6790 - accuracy: 0.7708 - val_loss: 0.4120 - val_accuracy: 0.8849\n",
      "\n",
      "Epoch 00010: val_loss improved from 0.43032 to 0.41204, saving model to /content/drive/My Drive/kaggle/resnetmaskModel_aug.hdf5\n",
      "Epoch 11/40\n",
      "298/297 [==============================] - 214s 717ms/step - loss: 0.6352 - accuracy: 0.7841 - val_loss: 0.4303 - val_accuracy: 0.8775\n",
      "\n",
      "Epoch 00011: val_loss did not improve from 0.41204\n",
      "Epoch 12/40\n",
      "298/297 [==============================] - 212s 710ms/step - loss: 0.6229 - accuracy: 0.7874 - val_loss: 0.4276 - val_accuracy: 0.8831\n",
      "\n",
      "Epoch 00012: val_loss did not improve from 0.41204\n",
      "Epoch 13/40\n",
      "298/297 [==============================] - 215s 720ms/step - loss: 0.5923 - accuracy: 0.7939 - val_loss: 0.4352 - val_accuracy: 0.8781\n",
      "\n",
      "Epoch 00013: val_loss did not improve from 0.41204\n",
      "Epoch 14/40\n",
      "298/297 [==============================] - 213s 714ms/step - loss: 0.5579 - accuracy: 0.8088 - val_loss: 0.4140 - val_accuracy: 0.8843\n",
      "\n",
      "Epoch 00014: val_loss did not improve from 0.41204\n",
      "Epoch 15/40\n",
      "298/297 [==============================] - 212s 712ms/step - loss: 0.5530 - accuracy: 0.8095 - val_loss: 0.4249 - val_accuracy: 0.8831\n",
      "\n",
      "Epoch 00015: val_loss did not improve from 0.41204\n",
      "Epoch 16/40\n",
      "298/297 [==============================] - 212s 710ms/step - loss: 0.5233 - accuracy: 0.8193 - val_loss: 0.3961 - val_accuracy: 0.8887\n",
      "\n",
      "Epoch 00016: val_loss improved from 0.41204 to 0.39615, saving model to /content/drive/My Drive/kaggle/resnetmaskModel_aug.hdf5\n",
      "Epoch 17/40\n",
      "298/297 [==============================] - 212s 710ms/step - loss: 0.5133 - accuracy: 0.8228 - val_loss: 0.3989 - val_accuracy: 0.8905\n",
      "\n",
      "Epoch 00017: val_loss did not improve from 0.39615\n",
      "Epoch 18/40\n",
      "298/297 [==============================] - 210s 705ms/step - loss: 0.5009 - accuracy: 0.8271 - val_loss: 0.3920 - val_accuracy: 0.8893\n",
      "\n",
      "Epoch 00018: val_loss improved from 0.39615 to 0.39202, saving model to /content/drive/My Drive/kaggle/resnetmaskModel_aug.hdf5\n",
      "Epoch 19/40\n",
      "298/297 [==============================] - 210s 706ms/step - loss: 0.4791 - accuracy: 0.8358 - val_loss: 0.4005 - val_accuracy: 0.8878\n",
      "\n",
      "Epoch 00019: val_loss did not improve from 0.39202\n",
      "Epoch 20/40\n",
      "298/297 [==============================] - 210s 705ms/step - loss: 0.4676 - accuracy: 0.8395 - val_loss: 0.4009 - val_accuracy: 0.8934\n",
      "\n",
      "Epoch 00020: val_loss did not improve from 0.39202\n",
      "Epoch 21/40\n",
      "298/297 [==============================] - 210s 703ms/step - loss: 0.4546 - accuracy: 0.8434 - val_loss: 0.3904 - val_accuracy: 0.8925\n",
      "\n",
      "Epoch 00021: val_loss improved from 0.39202 to 0.39039, saving model to /content/drive/My Drive/kaggle/resnetmaskModel_aug.hdf5\n",
      "Epoch 22/40\n",
      "298/297 [==============================] - 211s 709ms/step - loss: 0.4278 - accuracy: 0.8531 - val_loss: 0.4278 - val_accuracy: 0.8843\n",
      "\n",
      "Epoch 00022: val_loss did not improve from 0.39039\n",
      "Epoch 23/40\n",
      "298/297 [==============================] - 212s 712ms/step - loss: 0.4346 - accuracy: 0.8524 - val_loss: 0.4035 - val_accuracy: 0.8910\n",
      "\n",
      "Epoch 00023: val_loss did not improve from 0.39039\n",
      "Epoch 24/40\n",
      "298/297 [==============================] - 212s 710ms/step - loss: 0.4264 - accuracy: 0.8543 - val_loss: 0.4232 - val_accuracy: 0.8852\n",
      "\n",
      "Epoch 00024: val_loss did not improve from 0.39039\n",
      "Epoch 25/40\n",
      "298/297 [==============================] - 212s 710ms/step - loss: 0.4070 - accuracy: 0.8612 - val_loss: 0.4404 - val_accuracy: 0.8899\n",
      "\n",
      "Epoch 00025: val_loss did not improve from 0.39039\n",
      "Epoch 26/40\n",
      "298/297 [==============================] - 216s 723ms/step - loss: 0.3971 - accuracy: 0.8625 - val_loss: 0.3996 - val_accuracy: 0.8943\n",
      "\n",
      "Epoch 00026: val_loss did not improve from 0.39039\n",
      "Epoch 27/40\n",
      "298/297 [==============================] - 212s 713ms/step - loss: 0.3894 - accuracy: 0.8668 - val_loss: 0.4316 - val_accuracy: 0.8834\n",
      "\n",
      "Epoch 00027: val_loss did not improve from 0.39039\n",
      "Epoch 28/40\n",
      "298/297 [==============================] - 213s 713ms/step - loss: 0.3866 - accuracy: 0.8663 - val_loss: 0.4371 - val_accuracy: 0.8878\n",
      "\n",
      "Epoch 00028: val_loss did not improve from 0.39039\n",
      "Epoch 29/40\n",
      "298/297 [==============================] - 212s 712ms/step - loss: 0.3739 - accuracy: 0.8730 - val_loss: 0.4112 - val_accuracy: 0.8949\n",
      "\n",
      "Epoch 00029: val_loss did not improve from 0.39039\n",
      "Epoch 30/40\n",
      "298/297 [==============================] - 211s 709ms/step - loss: 0.3668 - accuracy: 0.8761 - val_loss: 0.4690 - val_accuracy: 0.8846\n",
      "\n",
      "Epoch 00030: val_loss did not improve from 0.39039\n",
      "Epoch 31/40\n",
      "298/297 [==============================] - 211s 708ms/step - loss: 0.3574 - accuracy: 0.8802 - val_loss: 0.4602 - val_accuracy: 0.8846\n",
      "\n",
      "Epoch 00031: val_loss did not improve from 0.39039\n",
      "Epoch 32/40\n",
      "298/297 [==============================] - 210s 705ms/step - loss: 0.3554 - accuracy: 0.8783 - val_loss: 0.4235 - val_accuracy: 0.8931\n",
      "\n",
      "Epoch 00032: val_loss did not improve from 0.39039\n",
      "Epoch 33/40\n",
      "298/297 [==============================] - 210s 704ms/step - loss: 0.3481 - accuracy: 0.8797 - val_loss: 0.4489 - val_accuracy: 0.8899\n",
      "\n",
      "Epoch 00033: val_loss did not improve from 0.39039\n",
      "Epoch 34/40\n",
      "298/297 [==============================] - 210s 706ms/step - loss: 0.3395 - accuracy: 0.8850 - val_loss: 0.4430 - val_accuracy: 0.8949\n",
      "\n",
      "Epoch 00034: val_loss did not improve from 0.39039\n",
      "Epoch 35/40\n",
      "298/297 [==============================] - 212s 711ms/step - loss: 0.3340 - accuracy: 0.8846 - val_loss: 0.4222 - val_accuracy: 0.8949\n",
      "\n",
      "Epoch 00035: val_loss did not improve from 0.39039\n",
      "Epoch 36/40\n",
      "298/297 [==============================] - 212s 713ms/step - loss: 0.3270 - accuracy: 0.8870 - val_loss: 0.4554 - val_accuracy: 0.8866\n",
      "\n",
      "Epoch 00036: val_loss did not improve from 0.39039\n",
      "Epoch 37/40\n",
      "298/297 [==============================] - 210s 706ms/step - loss: 0.3174 - accuracy: 0.8912 - val_loss: 0.4238 - val_accuracy: 0.8946\n",
      "\n",
      "Epoch 00037: val_loss did not improve from 0.39039\n",
      "Epoch 38/40\n",
      "298/297 [==============================] - 213s 716ms/step - loss: 0.3135 - accuracy: 0.8930 - val_loss: 0.4215 - val_accuracy: 0.8981\n",
      "\n",
      "Epoch 00038: val_loss did not improve from 0.39039\n",
      "Epoch 39/40\n",
      "298/297 [==============================] - 211s 708ms/step - loss: 0.3105 - accuracy: 0.8949 - val_loss: 0.4746 - val_accuracy: 0.8855\n",
      "\n",
      "Epoch 00039: val_loss did not improve from 0.39039\n",
      "Epoch 40/40\n",
      "298/297 [==============================] - 212s 710ms/step - loss: 0.3093 - accuracy: 0.8929 - val_loss: 0.4561 - val_accuracy: 0.8940\n",
      "\n",
      "Epoch 00040: val_loss did not improve from 0.39039\n"
     ]
    }
   ],
   "source": [
    "from keras.preprocessing.image import ImageDataGenerator\n",
    "from keras.callbacks import ModelCheckpoint,EarlyStopping\n",
    "\n",
    "checkpointer = ModelCheckpoint('/content/drive/My Drive/kaggle/resnetmaskModel_aug.hdf5', verbose=1, save_best_only=True)\n",
    "earlystopper = EarlyStopping(monitor='accuracy', patience=7, verbose=1)\n",
    "\n",
    "\n",
    "datagen = ImageDataGenerator(\n",
    "    height_shift_range=0.5,\n",
    "    width_shift_range = 0.5,\n",
    "    zoom_range = 0.5,\n",
    "    rotation_range=30\n",
    "        )\n",
    "#datagen.fit(X_train)\n",
    "data_generator = datagen.flow(X_train, y_train, batch_size = 64)\n",
    "\n",
    "# Fits the model on batches with real-time data augmentation:\n",
    "resnet50_model = resnet50_pretrained.fit_generator(data_generator,steps_per_epoch = len(X_train) / 64, callbacks=[checkpointer, earlystopper],\n",
    "                                                            epochs = 40, verbose = 1, validation_data = (X_test, y_test))\n"
   ]
  },
  {
   "cell_type": "code",
   "execution_count": 0,
   "metadata": {
    "colab": {},
    "colab_type": "code",
    "id": "xd5H2X5tGnED"
   },
   "outputs": [],
   "source": [
    "#vgg16_model.save(\"/content/drive/My Drive/kaggle/singleModel_aug.h5\")\n",
    "resnet50_pretrained.save_weights(\"/content/drive/My Drive/kaggle/resnetmaskModel_aug_weights.h5\")"
   ]
  },
  {
   "cell_type": "code",
   "execution_count": 23,
   "metadata": {
    "colab": {
     "base_uri": "https://localhost:8080/",
     "height": 493
    },
    "colab_type": "code",
    "executionInfo": {
     "elapsed": 8762614,
     "status": "ok",
     "timestamp": 1591474946748,
     "user": {
      "displayName": "Amit Gupta",
      "photoUrl": "",
      "userId": "05965806125720489979"
     },
     "user_tz": 420
    },
    "id": "SklAZD_fT0Hy",
    "outputId": "7a6bb20c-89ea-41d2-8951-7e5360152583"
   },
   "outputs": [
    {
     "name": "stdout",
     "output_type": "stream",
     "text": [
      "Model: \"model_1\"\n",
      "_________________________________________________________________\n",
      "Layer (type)                 Output Shape              Param #   \n",
      "=================================================================\n",
      "Image_input (InputLayer)     (None, 224, 224, 3)       0         \n",
      "_________________________________________________________________\n",
      "resnet50 (Model)             (None, 7, 7, 2048)        23587712  \n",
      "_________________________________________________________________\n",
      "global_average_pooling2d_1 ( (None, 2048)              0         \n",
      "_________________________________________________________________\n",
      "dense_1 (Dense)              (None, 1024)              2098176   \n",
      "_________________________________________________________________\n",
      "dropout_1 (Dropout)          (None, 1024)              0         \n",
      "_________________________________________________________________\n",
      "dense_2 (Dense)              (None, 1024)              1049600   \n",
      "_________________________________________________________________\n",
      "batch_normalization_1 (Batch (None, 1024)              4096      \n",
      "_________________________________________________________________\n",
      "dropout_2 (Dropout)          (None, 1024)              0         \n",
      "_________________________________________________________________\n",
      "dense_3 (Dense)              (None, 512)               524800    \n",
      "_________________________________________________________________\n",
      "predictions (Dense)          (None, 10)                5130      \n",
      "=================================================================\n",
      "Total params: 27,269,514\n",
      "Trainable params: 27,214,346\n",
      "Non-trainable params: 55,168\n",
      "_________________________________________________________________\n"
     ]
    }
   ],
   "source": [
    "from keras.models import load_model\n",
    "rcModel = load_model('/content/drive/My Drive/kaggle/resnetmaskModel_aug.hdf5')\n",
    "rcModel.summary()"
   ]
  },
  {
   "cell_type": "code",
   "execution_count": 24,
   "metadata": {
    "colab": {
     "base_uri": "https://localhost:8080/",
     "height": 34
    },
    "colab_type": "code",
    "executionInfo": {
     "elapsed": 8762610,
     "status": "ok",
     "timestamp": 1591474946750,
     "user": {
      "displayName": "Amit Gupta",
      "photoUrl": "",
      "userId": "05965806125720489979"
     },
     "user_tz": 420
    },
    "id": "1zyAbBXXWti4",
    "outputId": "86d9cfaf-3934-4bad-e5e9-62c1c3c6bb2a"
   },
   "outputs": [
    {
     "data": {
      "text/plain": [
       "(3405, 224, 224, 3)"
      ]
     },
     "execution_count": 24,
     "metadata": {
      "tags": []
     },
     "output_type": "execute_result"
    }
   ],
   "source": [
    "X_test.shape"
   ]
  },
  {
   "cell_type": "code",
   "execution_count": 25,
   "metadata": {
    "colab": {
     "base_uri": "https://localhost:8080/",
     "height": 238
    },
    "colab_type": "code",
    "executionInfo": {
     "elapsed": 8775906,
     "status": "ok",
     "timestamp": 1591474960055,
     "user": {
      "displayName": "Amit Gupta",
      "photoUrl": "",
      "userId": "05965806125720489979"
     },
     "user_tz": 420
    },
    "id": "E4UBzXvyTnt-",
    "outputId": "c5f2cb42-ff13-46c6-fab7-37c5906d6db5"
   },
   "outputs": [
    {
     "name": "stdout",
     "output_type": "stream",
     "text": [
      "Images Predicted until now: 3405\n",
      "True images: 3405\n",
      "The accuracy of this model over validation set is: 0.892511013215859\n"
     ]
    },
    {
     "data": {
      "text/plain": [
       "array([[257,   2,   0,   0,   1,   2,   1,   0,   4,  84],\n",
       "       [  0, 310,   0,   0,   1,   0,   6,   0,  43,   1],\n",
       "       [  1,   1, 351,   0,   0,   0,   0,   4,   5,   0],\n",
       "       [  0,   0,   0, 346,   4,   2,   0,   0,   0,   0],\n",
       "       [  0,   0,   0,   0, 357,   0,   1,   0,   3,   0],\n",
       "       [  3,   0,   0,   0,   0, 353,   2,   0,   1,   0],\n",
       "       [  0,   1,   0,   0,   0,   0, 324,   2,  12,   0],\n",
       "       [  0,   0,   0,   0,   0,   0,   0, 299,   3,   0],\n",
       "       [ 14,   0,   3,   0,  30,   0,   9,  12, 202,  21],\n",
       "       [ 75,   0,   0,   0,   0,   2,   1,   9,   0, 240]])"
      ]
     },
     "execution_count": 25,
     "metadata": {
      "tags": []
     },
     "output_type": "execute_result"
    }
   ],
   "source": [
    "# labels is the image array\n",
    "\n",
    "from sklearn.metrics import accuracy_score, confusion_matrix\n",
    "\n",
    "model1_prediction = []\n",
    "model1_pred_class = []\n",
    "\n",
    "model1_prediction = rcModel.predict(X_test)\n",
    "print('Images Predicted until now:',len(model1_prediction))\n",
    "print(f'True images: {len(true_test)}')\n",
    "\n",
    "for i in range(len(model1_prediction)):\n",
    "    model1_pred_class.append(np.where(model1_prediction[i] == np.amax(model1_prediction[i]))[0][0])\n",
    "\n",
    "    \n",
    "print('The accuracy of this model over validation set is:',accuracy_score(true_test,model1_pred_class))\n",
    "confusion_matrix(true_test,model1_pred_class)"
   ]
  },
  {
   "cell_type": "code",
   "execution_count": 26,
   "metadata": {
    "colab": {
     "base_uri": "https://localhost:8080/",
     "height": 238
    },
    "colab_type": "code",
    "executionInfo": {
     "elapsed": 8775902,
     "status": "ok",
     "timestamp": 1591474960056,
     "user": {
      "displayName": "Amit Gupta",
      "photoUrl": "",
      "userId": "05965806125720489979"
     },
     "user_tz": 420
    },
    "id": "P2PQ1gIhXXIO",
    "outputId": "8bf93b96-94b5-49d9-9ae1-b5ae46f52fee"
   },
   "outputs": [
    {
     "name": "stdout",
     "output_type": "stream",
     "text": [
      "prediction=[[3.9262008e-02 2.6558555e-04 6.1509095e-04 ... 5.3974806e-04\n",
      "  3.7960537e-02 1.2262423e-02]\n",
      " [1.8784506e-03 6.2892759e-05 1.8902203e-04 ... 5.0987706e-05\n",
      "  5.0359398e-02 5.5679688e-03]\n",
      " [3.5427579e-06 8.9151598e-08 6.7137370e-07 ... 5.6298546e-07\n",
      "  7.0244452e-05 9.6647345e-06]\n",
      " ...\n",
      " [7.9739628e-05 9.9951553e-01 3.0914666e-06 ... 1.6685738e-06\n",
      "  1.9236861e-04 4.9351231e-05]\n",
      " [3.0475596e-06 4.1153478e-05 2.4769661e-01 ... 1.6736552e-03\n",
      "  7.4237090e-01 2.0289193e-05]\n",
      " [4.3013215e-09 1.6257990e-12 5.8542440e-13 ... 1.4489042e-11\n",
      "  1.0822424e-10 7.2565391e-11]], shape=(3405, 10)\n"
     ]
    }
   ],
   "source": [
    "print(f'prediction={model1_prediction}, shape={model1_prediction.shape}')"
   ]
  },
  {
   "cell_type": "code",
   "execution_count": 27,
   "metadata": {
    "colab": {
     "base_uri": "https://localhost:8080/",
     "height": 34
    },
    "colab_type": "code",
    "executionInfo": {
     "elapsed": 8775892,
     "status": "ok",
     "timestamp": 1591474960057,
     "user": {
      "displayName": "Amit Gupta",
      "photoUrl": "",
      "userId": "05965806125720489979"
     },
     "user_tz": 420
    },
    "id": "yP06M7AwXrVO",
    "outputId": "f5a63899-3525-437c-c6e7-6d8c7d612e89"
   },
   "outputs": [
    {
     "name": "stdout",
     "output_type": "stream",
     "text": [
      "The log loss from this model is: 0.39\n"
     ]
    }
   ],
   "source": [
    "from sklearn.metrics import log_loss\n",
    "\n",
    "lgloss = log_loss(y_test, model1_prediction, eps=1e-15, normalize=True, sample_weight=None, labels=None)\n",
    "\n",
    "print('The log loss from this model is:',round(lgloss,2))"
   ]
  },
  {
   "cell_type": "code",
   "execution_count": 0,
   "metadata": {
    "colab": {},
    "colab_type": "code",
    "id": "u5jlqhDY2rJQ"
   },
   "outputs": [],
   "source": []
  },
  {
   "cell_type": "code",
   "execution_count": 0,
   "metadata": {
    "colab": {},
    "colab_type": "code",
    "id": "QAZ-Lj8n2r4C"
   },
   "outputs": [],
   "source": []
  }
 ],
 "metadata": {
  "accelerator": "GPU",
  "colab": {
   "collapsed_sections": [],
   "machine_shape": "hm",
   "name": "ddresnet",
   "provenance": [
    {
     "file_id": "1sC10jR0C_D6mKrYb8WDFjqRtjd0MYqNM",
     "timestamp": 1590787585835
    },
    {
     "file_id": "1eTVNAap4dPVOlGF70SqR1kG1rTFPpaYh",
     "timestamp": 1590775160830
    },
    {
     "file_id": "1mdbVqsqjuqNrirm_Cj2hrkLS4zmTu86Z",
     "timestamp": 1590686604373
    },
    {
     "file_id": "/v2/external/notebooks/pro.ipynb",
     "timestamp": 1590261075923
    }
   ]
  },
  "kernelspec": {
   "display_name": "Python 3",
   "language": "python",
   "name": "python3"
  },
  "language_info": {
   "codemirror_mode": {
    "name": "ipython",
    "version": 3
   },
   "file_extension": ".py",
   "mimetype": "text/x-python",
   "name": "python",
   "nbconvert_exporter": "python",
   "pygments_lexer": "ipython3",
   "version": "3.7.2"
  }
 },
 "nbformat": 4,
 "nbformat_minor": 1
}
