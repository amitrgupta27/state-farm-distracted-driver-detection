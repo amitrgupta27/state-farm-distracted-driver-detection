{
 "cells": [
  {
   "cell_type": "code",
   "execution_count": 0,
   "metadata": {
    "colab": {},
    "colab_type": "code",
    "id": "G2kouX7Yecbz"
   },
   "outputs": [],
   "source": [
    "import os\n",
    "import random\n",
    "import numpy as np\n",
    "import pandas as pd \n",
    "import pickle\n",
    "import cv2\n",
    "\n",
    "import keras\n"
   ]
  },
  {
   "cell_type": "code",
   "execution_count": 0,
   "metadata": {
    "colab": {},
    "colab_type": "code",
    "id": "zYag97dXe6zW"
   },
   "outputs": [],
   "source": [
    "from numpy import load\n",
    "model1_prediction_zoom = load('/content/drive/My Drive/distdrv/model1_prediction_zoom.npy')\n",
    "model2_prediction_zoom = load('/content/drive/My Drive/distdrv/model2_prediction_zoom.npy')\n",
    "model3_prediction_zoom = load('/content/drive/My Drive/distdrv/model3_prediction_zoom.npy')\n",
    "model4_prediction_zoom = load('/content/drive/My Drive/distdrv/model4_prediction_zoom.npy')\n",
    "indices = load('/content/drive/My Drive/distdrv/zoomindices.npy')\n"
   ]
  },
  {
   "cell_type": "code",
   "execution_count": 0,
   "metadata": {
    "colab": {},
    "colab_type": "code",
    "id": "EoKVKEdLfD6j"
   },
   "outputs": [],
   "source": [
    "from statistics import mean,median\n",
    "\n",
    "\n",
    "ensemble_predictions = []\n",
    "predictions = []\n",
    "\n",
    "for i in range(79726):\n",
    "#for i in range(1):\n",
    "    mean_prediction = []\n",
    "    \n",
    "    for j in range(10):\n",
    "        predictions.append(model1_prediction_zoom[i][j])\n",
    "        predictions.append(model2_prediction_zoom[i][j])\n",
    "        predictions.append(model3_prediction_zoom[i][j])\n",
    "        predictions.append(model4_prediction_zoom[i][j])\n",
    "        #predictions.append(model5_prediction[i][j])\n",
    "        #predictions.append(model6_prediction[i][j])\n",
    "        #predictions.append(model7_prediction[i][j])\n",
    "        #predictions.append(model8_prediction[i][j])\n",
    "        \n",
    "        #print(predictions)\n",
    "        \n",
    "        #trimmed_value = (sum(predictions) - max(predictions) - min(predictions))/(len(predictions) - 2)\n",
    "        \n",
    "        mean_value = mean(predictions)\n",
    "\n",
    "        predictions = []\n",
    "        mean_prediction.append(mean_value)\n",
    "    \n",
    "    mean_prediction = mean_prediction/ sum(mean_prediction)\n",
    "    ensemble_predictions.append(mean_prediction)\n",
    "        \n",
    "    \n",
    "ensemble_predictions_zoom = np.asarray(ensemble_predictions)        \n",
    "\n"
   ]
  },
  {
   "cell_type": "code",
   "execution_count": 7,
   "metadata": {
    "colab": {
     "base_uri": "https://localhost:8080/",
     "height": 34
    },
    "colab_type": "code",
    "executionInfo": {
     "elapsed": 58003,
     "status": "ok",
     "timestamp": 1591713545645,
     "user": {
      "displayName": "Amit Gupta",
      "photoUrl": "",
      "userId": "05965806125720489979"
     },
     "user_tz": 420
    },
    "id": "AYUrdUg7fdui",
    "outputId": "39487805-4189-40ff-cd7d-12a2b178cef1"
   },
   "outputs": [
    {
     "name": "stdout",
     "output_type": "stream",
     "text": [
      "The code is done\n"
     ]
    }
   ],
   "source": [
    "from statistics import mean\n",
    "\n",
    "knn_predictions = []\n",
    "predictions = []\n",
    "\n",
    "for i in range(indices.shape[0]):\n",
    "    mean_prediction = []\n",
    "    for j in range(10):\n",
    "        for img in indices[i]:\n",
    "            predictions.append(ensemble_predictions_zoom[img][j])\n",
    "        \n",
    "        #trimmed_value = (sum(predictions) - max(predictions) - min(predictions))/(len(predictions) -2 )\n",
    "        mean_value = mean(predictions)\n",
    "        predictions = []\n",
    "    \n",
    "        mean_prediction.append(mean_value)\n",
    "    \n",
    "    mean_prediction = mean_prediction/sum(mean_prediction)\n",
    "    knn_predictions.append(mean_prediction)\n",
    "            \n",
    "knn_predictions = np.asarray(knn_predictions)           \n",
    "        \n",
    "\n",
    "        \n",
    "print('The code is done')\n"
   ]
  },
  {
   "cell_type": "code",
   "execution_count": 8,
   "metadata": {
    "colab": {
     "base_uri": "https://localhost:8080/",
     "height": 1000
    },
    "colab_type": "code",
    "executionInfo": {
     "elapsed": 675166,
     "status": "ok",
     "timestamp": 1591714162814,
     "user": {
      "displayName": "Amit Gupta",
      "photoUrl": "",
      "userId": "05965806125720489979"
     },
     "user_tz": 420
    },
    "id": "AP_G8q-Sgfof",
    "outputId": "fcaab24e-5a91-46c8-e9c4-f9eabb3f9c07"
   },
   "outputs": [
    {
     "name": "stdout",
     "output_type": "stream",
     "text": [
      "              img   c0   c1   c2   c3   c4   c5   c6   c7   c8   c9\n",
      "0       img_1.jpg  0.1  0.1  0.1  0.1  0.1  0.1  0.1  0.1  0.1  0.1\n",
      "1      img_10.jpg  0.1  0.1  0.1  0.1  0.1  0.1  0.1  0.1  0.1  0.1\n",
      "2     img_100.jpg  0.1  0.1  0.1  0.1  0.1  0.1  0.1  0.1  0.1  0.1\n",
      "3    img_1000.jpg  0.1  0.1  0.1  0.1  0.1  0.1  0.1  0.1  0.1  0.1\n",
      "4  img_100000.jpg  0.1  0.1  0.1  0.1  0.1  0.1  0.1  0.1  0.1  0.1\n",
      "count=1000\n",
      "count=2000\n",
      "count=3000\n",
      "count=4000\n",
      "count=5000\n",
      "count=6000\n",
      "count=7000\n",
      "count=8000\n",
      "count=9000\n",
      "count=10000\n",
      "count=11000\n",
      "count=12000\n",
      "count=13000\n",
      "count=14000\n",
      "count=15000\n",
      "count=16000\n",
      "count=17000\n",
      "count=18000\n",
      "count=19000\n",
      "count=20000\n",
      "count=21000\n",
      "count=22000\n",
      "count=23000\n",
      "count=24000\n",
      "count=25000\n",
      "count=26000\n",
      "count=27000\n",
      "count=28000\n",
      "count=29000\n",
      "count=30000\n",
      "count=31000\n",
      "count=32000\n",
      "count=33000\n",
      "count=34000\n",
      "count=35000\n",
      "count=36000\n",
      "count=37000\n",
      "count=38000\n",
      "count=39000\n",
      "count=40000\n",
      "count=41000\n",
      "count=42000\n",
      "count=43000\n",
      "count=44000\n",
      "count=45000\n",
      "count=46000\n",
      "count=47000\n",
      "count=48000\n",
      "count=49000\n",
      "count=50000\n",
      "count=51000\n",
      "count=52000\n",
      "count=53000\n",
      "count=54000\n",
      "count=55000\n",
      "count=56000\n",
      "count=57000\n",
      "count=58000\n",
      "count=59000\n",
      "count=60000\n",
      "count=61000\n",
      "count=62000\n",
      "count=63000\n",
      "count=64000\n",
      "count=65000\n",
      "count=66000\n",
      "count=67000\n",
      "count=68000\n",
      "count=69000\n",
      "count=70000\n",
      "count=71000\n",
      "count=72000\n",
      "count=73000\n",
      "count=74000\n",
      "count=75000\n",
      "count=76000\n",
      "count=77000\n",
      "count=78000\n",
      "count=79000\n"
     ]
    }
   ],
   "source": [
    "# run the predictions\n",
    "\n",
    "count = 0\n",
    "df = pd.read_csv('/content/drive/My Drive/kaggle/sample_submission.csv',na_values='na')\n",
    "print(df.head(5))\n",
    "\n",
    "for img_name in df['img']:\n",
    "    \n",
    "    df.loc[count, ['c0', 'c1', 'c2', 'c3', 'c4', 'c5', 'c6', 'c7', 'c8', 'c9']] = knn_predictions[count]\n",
    "    count += 1\n",
    "    if ((count % 1000) == 0):\n",
    "    #if (count > 2):\n",
    "        print(f'count={count}')\n",
    "        \n",
    "    \n",
    "    \n",
    "    \n",
    "  \n",
    "#write the classification results to a file\n",
    "df.to_csv('/content/drive/My Drive/kaggle/test_submission_knn600ensemblezoomAugModel.csv', index=False)"
   ]
  }
 ],
 "metadata": {
  "colab": {
   "authorship_tag": "ABX9TyPulJyIV5UHjjHSLU5EPah2",
   "collapsed_sections": [],
   "mount_file_id": "1DQWA-ztyDQz87ABR-6CFYiv-7YQcDzPn",
   "name": "ddpred.ipynb",
   "provenance": []
  },
  "kernelspec": {
   "display_name": "Python 3",
   "language": "python",
   "name": "python3"
  },
  "language_info": {
   "codemirror_mode": {
    "name": "ipython",
    "version": 3
   },
   "file_extension": ".py",
   "mimetype": "text/x-python",
   "name": "python",
   "nbconvert_exporter": "python",
   "pygments_lexer": "ipython3",
   "version": "3.7.2"
  }
 },
 "nbformat": 4,
 "nbformat_minor": 1
}
